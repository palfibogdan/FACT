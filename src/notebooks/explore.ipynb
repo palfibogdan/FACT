{
 "cells": [
  {
   "cell_type": "code",
   "execution_count": null,
   "id": "3c31e950-c117-43bd-bb50-d51a0b2f23f6",
   "metadata": {},
   "outputs": [
    {
     "name": "stdout",
     "output_type": "stream",
     "text": [
      "/home/xqz-u/master/FACT/FACT/src\n"
     ]
    },
    {
     "data": {
      "text/plain": [
       "'/home/xqz-u/master/FACT/FACT/src'"
      ]
     },
     "execution_count": null,
     "metadata": {},
     "output_type": "execute_result"
    }
   ],
   "source": [
    "import os\n",
    "\n",
    "if not os.getcwd().endswith(\"src\"):\n",
    "    %cd ..\n",
    "%pwd"
   ]
  },
  {
   "cell_type": "code",
   "execution_count": null,
   "id": "56d75ee4-82ef-462f-bdf7-1b3c66f58b23",
   "metadata": {},
   "outputs": [
    {
     "name": "stderr",
     "output_type": "stream",
     "text": [
      "/home/xqz-u/py_envs/FACT/lib/python3.10/site-packages/implicit/gpu/__init__.py:13: UserWarning: CUDA extension is built, but disabling GPU support because of 'Cuda Error: CUDA driver version is insufficient for CUDA runtime version (/project/./implicit/gpu/utils.h:71)'\n",
      "  warnings.warn(\n"
     ]
    }
   ],
   "source": [
    "import implicit\n",
    "import numpy as np\n",
    "import pandas as pd\n",
    "import scipy\n",
    "\n",
    "import config"
   ]
  },
  {
   "cell_type": "code",
   "execution_count": null,
   "id": "25badc2a-5fd9-4cff-8991-08b60151d353",
   "metadata": {},
   "outputs": [
    {
     "data": {
      "text/html": [
       "<div>\n",
       "<style scoped>\n",
       "    .dataframe tbody tr th:only-of-type {\n",
       "        vertical-align: middle;\n",
       "    }\n",
       "\n",
       "    .dataframe tbody tr th {\n",
       "        vertical-align: top;\n",
       "    }\n",
       "\n",
       "    .dataframe thead th {\n",
       "        text-align: right;\n",
       "    }\n",
       "</style>\n",
       "<table border=\"1\" class=\"dataframe\">\n",
       "  <thead>\n",
       "    <tr style=\"text-align: right;\">\n",
       "      <th></th>\n",
       "      <th>user</th>\n",
       "      <th>item</th>\n",
       "      <th>weight</th>\n",
       "    </tr>\n",
       "  </thead>\n",
       "  <tbody>\n",
       "    <tr>\n",
       "      <th>0</th>\n",
       "      <td>2</td>\n",
       "      <td>51</td>\n",
       "      <td>13883</td>\n",
       "    </tr>\n",
       "    <tr>\n",
       "      <th>1</th>\n",
       "      <td>2</td>\n",
       "      <td>52</td>\n",
       "      <td>11690</td>\n",
       "    </tr>\n",
       "    <tr>\n",
       "      <th>2</th>\n",
       "      <td>2</td>\n",
       "      <td>53</td>\n",
       "      <td>11351</td>\n",
       "    </tr>\n",
       "    <tr>\n",
       "      <th>3</th>\n",
       "      <td>2</td>\n",
       "      <td>54</td>\n",
       "      <td>10300</td>\n",
       "    </tr>\n",
       "    <tr>\n",
       "      <th>4</th>\n",
       "      <td>2</td>\n",
       "      <td>55</td>\n",
       "      <td>8983</td>\n",
       "    </tr>\n",
       "    <tr>\n",
       "      <th>...</th>\n",
       "      <td>...</td>\n",
       "      <td>...</td>\n",
       "      <td>...</td>\n",
       "    </tr>\n",
       "    <tr>\n",
       "      <th>92829</th>\n",
       "      <td>2100</td>\n",
       "      <td>18726</td>\n",
       "      <td>337</td>\n",
       "    </tr>\n",
       "    <tr>\n",
       "      <th>92830</th>\n",
       "      <td>2100</td>\n",
       "      <td>18727</td>\n",
       "      <td>297</td>\n",
       "    </tr>\n",
       "    <tr>\n",
       "      <th>92831</th>\n",
       "      <td>2100</td>\n",
       "      <td>18728</td>\n",
       "      <td>281</td>\n",
       "    </tr>\n",
       "    <tr>\n",
       "      <th>92832</th>\n",
       "      <td>2100</td>\n",
       "      <td>18729</td>\n",
       "      <td>280</td>\n",
       "    </tr>\n",
       "    <tr>\n",
       "      <th>92833</th>\n",
       "      <td>2100</td>\n",
       "      <td>18730</td>\n",
       "      <td>263</td>\n",
       "    </tr>\n",
       "  </tbody>\n",
       "</table>\n",
       "<p>92834 rows × 3 columns</p>\n",
       "</div>"
      ],
      "text/plain": [
       "       user   item  weight\n",
       "0         2     51   13883\n",
       "1         2     52   11690\n",
       "2         2     53   11351\n",
       "3         2     54   10300\n",
       "4         2     55    8983\n",
       "...     ...    ...     ...\n",
       "92829  2100  18726     337\n",
       "92830  2100  18727     297\n",
       "92831  2100  18728     281\n",
       "92832  2100  18729     280\n",
       "92833  2100  18730     263\n",
       "\n",
       "[92834 rows x 3 columns]"
      ]
     },
     "execution_count": null,
     "metadata": {},
     "output_type": "execute_result"
    }
   ],
   "source": [
    "user_artist_df = pd.read_csv(config.LASTFM_DIR / \"user_artists.dat\", sep=\"\\t\")\n",
    "user_artist_df = user_artist_df.rename(columns={\"userID\": \"user\", \"artistID\": \"item\"})\n",
    "user_artist_df"
   ]
  },
  {
   "cell_type": "code",
   "execution_count": null,
   "id": "1d196a59-18f8-4918-969a-66daa43ae313",
   "metadata": {},
   "outputs": [],
   "source": [
    "# steps:\n",
    "#     1. keep only top-2500 most listened artists DONE\n",
    "#     2. pre-process raw counts with log transforms (is it just taking the log?) DONE\n",
    "#     3. transform into full user-item preference matrix DONE\n",
    "#     4. split into 70/10/20 train/val/test sets, save the seeds used\n",
    "#     5. use Implicit library to fit a matrix factorization, using\n",
    "#        grid-search on hyperparms defined in appendix C.2\n",
    "#     6. generalize to MovieLens dataset, gpu etc."
   ]
  },
  {
   "cell_type": "code",
   "execution_count": null,
   "id": "ed5b4726-c420-4a06-9e57-4b75402c654a",
   "metadata": {},
   "outputs": [
    {
     "data": {
      "text/html": [
       "<div>\n",
       "<style scoped>\n",
       "    .dataframe tbody tr th:only-of-type {\n",
       "        vertical-align: middle;\n",
       "    }\n",
       "\n",
       "    .dataframe tbody tr th {\n",
       "        vertical-align: top;\n",
       "    }\n",
       "\n",
       "    .dataframe thead th {\n",
       "        text-align: right;\n",
       "    }\n",
       "</style>\n",
       "<table border=\"1\" class=\"dataframe\">\n",
       "  <thead>\n",
       "    <tr style=\"text-align: right;\">\n",
       "      <th></th>\n",
       "      <th>user</th>\n",
       "      <th>item</th>\n",
       "      <th>weight</th>\n",
       "    </tr>\n",
       "  </thead>\n",
       "  <tbody>\n",
       "    <tr>\n",
       "      <th>0</th>\n",
       "      <td>2</td>\n",
       "      <td>51</td>\n",
       "      <td>9.538420</td>\n",
       "    </tr>\n",
       "    <tr>\n",
       "      <th>1</th>\n",
       "      <td>2</td>\n",
       "      <td>52</td>\n",
       "      <td>9.366489</td>\n",
       "    </tr>\n",
       "    <tr>\n",
       "      <th>2</th>\n",
       "      <td>2</td>\n",
       "      <td>53</td>\n",
       "      <td>9.337061</td>\n",
       "    </tr>\n",
       "    <tr>\n",
       "      <th>3</th>\n",
       "      <td>2</td>\n",
       "      <td>54</td>\n",
       "      <td>9.239899</td>\n",
       "    </tr>\n",
       "    <tr>\n",
       "      <th>4</th>\n",
       "      <td>2</td>\n",
       "      <td>55</td>\n",
       "      <td>9.103089</td>\n",
       "    </tr>\n",
       "    <tr>\n",
       "      <th>...</th>\n",
       "      <td>...</td>\n",
       "      <td>...</td>\n",
       "      <td>...</td>\n",
       "    </tr>\n",
       "    <tr>\n",
       "      <th>92795</th>\n",
       "      <td>2100</td>\n",
       "      <td>1276</td>\n",
       "      <td>7.032624</td>\n",
       "    </tr>\n",
       "    <tr>\n",
       "      <th>92796</th>\n",
       "      <td>2100</td>\n",
       "      <td>1281</td>\n",
       "      <td>6.350886</td>\n",
       "    </tr>\n",
       "    <tr>\n",
       "      <th>92797</th>\n",
       "      <td>2100</td>\n",
       "      <td>2749</td>\n",
       "      <td>6.276643</td>\n",
       "    </tr>\n",
       "    <tr>\n",
       "      <th>92798</th>\n",
       "      <td>2100</td>\n",
       "      <td>2765</td>\n",
       "      <td>6.124683</td>\n",
       "    </tr>\n",
       "    <tr>\n",
       "      <th>92803</th>\n",
       "      <td>2100</td>\n",
       "      <td>4271</td>\n",
       "      <td>7.613819</td>\n",
       "    </tr>\n",
       "  </tbody>\n",
       "</table>\n",
       "<p>67362 rows × 3 columns</p>\n",
       "</div>"
      ],
      "text/plain": [
       "       user  item    weight\n",
       "0         2    51  9.538420\n",
       "1         2    52  9.366489\n",
       "2         2    53  9.337061\n",
       "3         2    54  9.239899\n",
       "4         2    55  9.103089\n",
       "...     ...   ...       ...\n",
       "92795  2100  1276  7.032624\n",
       "92796  2100  1281  6.350886\n",
       "92797  2100  2749  6.276643\n",
       "92798  2100  2765  6.124683\n",
       "92803  2100  4271  7.613819\n",
       "\n",
       "[67362 rows x 3 columns]"
      ]
     },
     "execution_count": null,
     "metadata": {},
     "output_type": "execute_result"
    }
   ],
   "source": [
    "# filter only top k artists\n",
    "k = 2500\n",
    "top_k_artists = np.array(user_artist_df.groupby(\"item\")[\"weight\"].sum().sort_values(ascending=False).index)[:k]\n",
    "user_artist_df = user_artist_df.loc[user_artist_df[\"item\"].isin(top_k_artists)]\n",
    "assert set(user_artist_df[\"item\"]) == set(top_k_artists)\n",
    "# log-transform\n",
    "user_artist_df = user_artist_df.copy() # avoid SettingWithCopy warning\n",
    "user_artist_df.loc[:, \"weight\"] = np.log(user_artist_df[\"weight\"])\n",
    "user_artist_df"
   ]
  },
  {
   "cell_type": "code",
   "execution_count": null,
   "id": "04e43ea2-cf23-47cf-8065-a69474c8f593",
   "metadata": {},
   "outputs": [
    {
     "data": {
      "text/html": [
       "<div>\n",
       "<style scoped>\n",
       "    .dataframe tbody tr th:only-of-type {\n",
       "        vertical-align: middle;\n",
       "    }\n",
       "\n",
       "    .dataframe tbody tr th {\n",
       "        vertical-align: top;\n",
       "    }\n",
       "\n",
       "    .dataframe thead th {\n",
       "        text-align: right;\n",
       "    }\n",
       "</style>\n",
       "<table border=\"1\" class=\"dataframe\">\n",
       "  <thead>\n",
       "    <tr style=\"text-align: right;\">\n",
       "      <th>item</th>\n",
       "      <th>2</th>\n",
       "      <th>6</th>\n",
       "      <th>7</th>\n",
       "      <th>8</th>\n",
       "      <th>9</th>\n",
       "      <th>10</th>\n",
       "      <th>12</th>\n",
       "      <th>15</th>\n",
       "      <th>18</th>\n",
       "      <th>19</th>\n",
       "      <th>...</th>\n",
       "      <th>18125</th>\n",
       "      <th>18126</th>\n",
       "      <th>18127</th>\n",
       "      <th>18205</th>\n",
       "      <th>18206</th>\n",
       "      <th>18434</th>\n",
       "      <th>18435</th>\n",
       "      <th>18558</th>\n",
       "      <th>18559</th>\n",
       "      <th>18575</th>\n",
       "    </tr>\n",
       "    <tr>\n",
       "      <th>user</th>\n",
       "      <th></th>\n",
       "      <th></th>\n",
       "      <th></th>\n",
       "      <th></th>\n",
       "      <th></th>\n",
       "      <th></th>\n",
       "      <th></th>\n",
       "      <th></th>\n",
       "      <th></th>\n",
       "      <th></th>\n",
       "      <th></th>\n",
       "      <th></th>\n",
       "      <th></th>\n",
       "      <th></th>\n",
       "      <th></th>\n",
       "      <th></th>\n",
       "      <th></th>\n",
       "      <th></th>\n",
       "      <th></th>\n",
       "      <th></th>\n",
       "      <th></th>\n",
       "    </tr>\n",
       "  </thead>\n",
       "  <tbody>\n",
       "    <tr>\n",
       "      <th>2</th>\n",
       "      <td>0.0</td>\n",
       "      <td>0.000000</td>\n",
       "      <td>0.0</td>\n",
       "      <td>0.0</td>\n",
       "      <td>0.0</td>\n",
       "      <td>0.0</td>\n",
       "      <td>0.000000</td>\n",
       "      <td>0.0</td>\n",
       "      <td>0.0</td>\n",
       "      <td>0.0</td>\n",
       "      <td>...</td>\n",
       "      <td>0.0</td>\n",
       "      <td>0.0</td>\n",
       "      <td>0.0</td>\n",
       "      <td>0.0</td>\n",
       "      <td>0.0</td>\n",
       "      <td>0.0</td>\n",
       "      <td>0.0</td>\n",
       "      <td>0.0</td>\n",
       "      <td>0.0</td>\n",
       "      <td>0.0</td>\n",
       "    </tr>\n",
       "    <tr>\n",
       "      <th>3</th>\n",
       "      <td>0.0</td>\n",
       "      <td>0.000000</td>\n",
       "      <td>0.0</td>\n",
       "      <td>0.0</td>\n",
       "      <td>0.0</td>\n",
       "      <td>0.0</td>\n",
       "      <td>0.000000</td>\n",
       "      <td>0.0</td>\n",
       "      <td>0.0</td>\n",
       "      <td>0.0</td>\n",
       "      <td>...</td>\n",
       "      <td>0.0</td>\n",
       "      <td>0.0</td>\n",
       "      <td>0.0</td>\n",
       "      <td>0.0</td>\n",
       "      <td>0.0</td>\n",
       "      <td>0.0</td>\n",
       "      <td>0.0</td>\n",
       "      <td>0.0</td>\n",
       "      <td>0.0</td>\n",
       "      <td>0.0</td>\n",
       "    </tr>\n",
       "    <tr>\n",
       "      <th>4</th>\n",
       "      <td>0.0</td>\n",
       "      <td>0.000000</td>\n",
       "      <td>0.0</td>\n",
       "      <td>0.0</td>\n",
       "      <td>0.0</td>\n",
       "      <td>0.0</td>\n",
       "      <td>0.000000</td>\n",
       "      <td>0.0</td>\n",
       "      <td>0.0</td>\n",
       "      <td>0.0</td>\n",
       "      <td>...</td>\n",
       "      <td>0.0</td>\n",
       "      <td>0.0</td>\n",
       "      <td>0.0</td>\n",
       "      <td>0.0</td>\n",
       "      <td>0.0</td>\n",
       "      <td>0.0</td>\n",
       "      <td>0.0</td>\n",
       "      <td>0.0</td>\n",
       "      <td>0.0</td>\n",
       "      <td>0.0</td>\n",
       "    </tr>\n",
       "    <tr>\n",
       "      <th>5</th>\n",
       "      <td>0.0</td>\n",
       "      <td>0.000000</td>\n",
       "      <td>0.0</td>\n",
       "      <td>0.0</td>\n",
       "      <td>0.0</td>\n",
       "      <td>0.0</td>\n",
       "      <td>0.000000</td>\n",
       "      <td>0.0</td>\n",
       "      <td>0.0</td>\n",
       "      <td>0.0</td>\n",
       "      <td>...</td>\n",
       "      <td>0.0</td>\n",
       "      <td>0.0</td>\n",
       "      <td>0.0</td>\n",
       "      <td>0.0</td>\n",
       "      <td>0.0</td>\n",
       "      <td>0.0</td>\n",
       "      <td>0.0</td>\n",
       "      <td>0.0</td>\n",
       "      <td>0.0</td>\n",
       "      <td>0.0</td>\n",
       "    </tr>\n",
       "    <tr>\n",
       "      <th>6</th>\n",
       "      <td>0.0</td>\n",
       "      <td>0.000000</td>\n",
       "      <td>0.0</td>\n",
       "      <td>0.0</td>\n",
       "      <td>0.0</td>\n",
       "      <td>0.0</td>\n",
       "      <td>0.000000</td>\n",
       "      <td>0.0</td>\n",
       "      <td>0.0</td>\n",
       "      <td>0.0</td>\n",
       "      <td>...</td>\n",
       "      <td>0.0</td>\n",
       "      <td>0.0</td>\n",
       "      <td>0.0</td>\n",
       "      <td>0.0</td>\n",
       "      <td>0.0</td>\n",
       "      <td>0.0</td>\n",
       "      <td>0.0</td>\n",
       "      <td>0.0</td>\n",
       "      <td>0.0</td>\n",
       "      <td>0.0</td>\n",
       "    </tr>\n",
       "    <tr>\n",
       "      <th>...</th>\n",
       "      <td>...</td>\n",
       "      <td>...</td>\n",
       "      <td>...</td>\n",
       "      <td>...</td>\n",
       "      <td>...</td>\n",
       "      <td>...</td>\n",
       "      <td>...</td>\n",
       "      <td>...</td>\n",
       "      <td>...</td>\n",
       "      <td>...</td>\n",
       "      <td>...</td>\n",
       "      <td>...</td>\n",
       "      <td>...</td>\n",
       "      <td>...</td>\n",
       "      <td>...</td>\n",
       "      <td>...</td>\n",
       "      <td>...</td>\n",
       "      <td>...</td>\n",
       "      <td>...</td>\n",
       "      <td>...</td>\n",
       "      <td>...</td>\n",
       "    </tr>\n",
       "    <tr>\n",
       "      <th>2095</th>\n",
       "      <td>0.0</td>\n",
       "      <td>0.000000</td>\n",
       "      <td>0.0</td>\n",
       "      <td>0.0</td>\n",
       "      <td>0.0</td>\n",
       "      <td>0.0</td>\n",
       "      <td>0.000000</td>\n",
       "      <td>0.0</td>\n",
       "      <td>0.0</td>\n",
       "      <td>0.0</td>\n",
       "      <td>...</td>\n",
       "      <td>0.0</td>\n",
       "      <td>0.0</td>\n",
       "      <td>0.0</td>\n",
       "      <td>0.0</td>\n",
       "      <td>0.0</td>\n",
       "      <td>0.0</td>\n",
       "      <td>0.0</td>\n",
       "      <td>0.0</td>\n",
       "      <td>0.0</td>\n",
       "      <td>0.0</td>\n",
       "    </tr>\n",
       "    <tr>\n",
       "      <th>2096</th>\n",
       "      <td>0.0</td>\n",
       "      <td>0.000000</td>\n",
       "      <td>0.0</td>\n",
       "      <td>0.0</td>\n",
       "      <td>0.0</td>\n",
       "      <td>0.0</td>\n",
       "      <td>0.000000</td>\n",
       "      <td>0.0</td>\n",
       "      <td>0.0</td>\n",
       "      <td>0.0</td>\n",
       "      <td>...</td>\n",
       "      <td>0.0</td>\n",
       "      <td>0.0</td>\n",
       "      <td>0.0</td>\n",
       "      <td>0.0</td>\n",
       "      <td>0.0</td>\n",
       "      <td>0.0</td>\n",
       "      <td>0.0</td>\n",
       "      <td>0.0</td>\n",
       "      <td>0.0</td>\n",
       "      <td>0.0</td>\n",
       "    </tr>\n",
       "    <tr>\n",
       "      <th>2097</th>\n",
       "      <td>0.0</td>\n",
       "      <td>0.000000</td>\n",
       "      <td>0.0</td>\n",
       "      <td>0.0</td>\n",
       "      <td>0.0</td>\n",
       "      <td>0.0</td>\n",
       "      <td>0.000000</td>\n",
       "      <td>0.0</td>\n",
       "      <td>0.0</td>\n",
       "      <td>0.0</td>\n",
       "      <td>...</td>\n",
       "      <td>0.0</td>\n",
       "      <td>0.0</td>\n",
       "      <td>0.0</td>\n",
       "      <td>0.0</td>\n",
       "      <td>0.0</td>\n",
       "      <td>0.0</td>\n",
       "      <td>0.0</td>\n",
       "      <td>0.0</td>\n",
       "      <td>0.0</td>\n",
       "      <td>0.0</td>\n",
       "    </tr>\n",
       "    <tr>\n",
       "      <th>2099</th>\n",
       "      <td>0.0</td>\n",
       "      <td>0.000000</td>\n",
       "      <td>0.0</td>\n",
       "      <td>0.0</td>\n",
       "      <td>0.0</td>\n",
       "      <td>0.0</td>\n",
       "      <td>0.000000</td>\n",
       "      <td>0.0</td>\n",
       "      <td>0.0</td>\n",
       "      <td>0.0</td>\n",
       "      <td>...</td>\n",
       "      <td>0.0</td>\n",
       "      <td>0.0</td>\n",
       "      <td>0.0</td>\n",
       "      <td>0.0</td>\n",
       "      <td>0.0</td>\n",
       "      <td>0.0</td>\n",
       "      <td>0.0</td>\n",
       "      <td>0.0</td>\n",
       "      <td>0.0</td>\n",
       "      <td>0.0</td>\n",
       "    </tr>\n",
       "    <tr>\n",
       "      <th>2100</th>\n",
       "      <td>0.0</td>\n",
       "      <td>6.001415</td>\n",
       "      <td>0.0</td>\n",
       "      <td>0.0</td>\n",
       "      <td>0.0</td>\n",
       "      <td>0.0</td>\n",
       "      <td>7.133296</td>\n",
       "      <td>0.0</td>\n",
       "      <td>0.0</td>\n",
       "      <td>0.0</td>\n",
       "      <td>...</td>\n",
       "      <td>0.0</td>\n",
       "      <td>0.0</td>\n",
       "      <td>0.0</td>\n",
       "      <td>0.0</td>\n",
       "      <td>0.0</td>\n",
       "      <td>0.0</td>\n",
       "      <td>0.0</td>\n",
       "      <td>0.0</td>\n",
       "      <td>0.0</td>\n",
       "      <td>0.0</td>\n",
       "    </tr>\n",
       "  </tbody>\n",
       "</table>\n",
       "<p>1880 rows × 2500 columns</p>\n",
       "</div>"
      ],
      "text/plain": [
       "item  2         6      7      8      9      10        12     15     18     \\\n",
       "user                                                                        \n",
       "2       0.0  0.000000    0.0    0.0    0.0    0.0  0.000000    0.0    0.0   \n",
       "3       0.0  0.000000    0.0    0.0    0.0    0.0  0.000000    0.0    0.0   \n",
       "4       0.0  0.000000    0.0    0.0    0.0    0.0  0.000000    0.0    0.0   \n",
       "5       0.0  0.000000    0.0    0.0    0.0    0.0  0.000000    0.0    0.0   \n",
       "6       0.0  0.000000    0.0    0.0    0.0    0.0  0.000000    0.0    0.0   \n",
       "...     ...       ...    ...    ...    ...    ...       ...    ...    ...   \n",
       "2095    0.0  0.000000    0.0    0.0    0.0    0.0  0.000000    0.0    0.0   \n",
       "2096    0.0  0.000000    0.0    0.0    0.0    0.0  0.000000    0.0    0.0   \n",
       "2097    0.0  0.000000    0.0    0.0    0.0    0.0  0.000000    0.0    0.0   \n",
       "2099    0.0  0.000000    0.0    0.0    0.0    0.0  0.000000    0.0    0.0   \n",
       "2100    0.0  6.001415    0.0    0.0    0.0    0.0  7.133296    0.0    0.0   \n",
       "\n",
       "item  19     ...  18125  18126  18127  18205  18206  18434  18435  18558  \\\n",
       "user         ...                                                           \n",
       "2       0.0  ...    0.0    0.0    0.0    0.0    0.0    0.0    0.0    0.0   \n",
       "3       0.0  ...    0.0    0.0    0.0    0.0    0.0    0.0    0.0    0.0   \n",
       "4       0.0  ...    0.0    0.0    0.0    0.0    0.0    0.0    0.0    0.0   \n",
       "5       0.0  ...    0.0    0.0    0.0    0.0    0.0    0.0    0.0    0.0   \n",
       "6       0.0  ...    0.0    0.0    0.0    0.0    0.0    0.0    0.0    0.0   \n",
       "...     ...  ...    ...    ...    ...    ...    ...    ...    ...    ...   \n",
       "2095    0.0  ...    0.0    0.0    0.0    0.0    0.0    0.0    0.0    0.0   \n",
       "2096    0.0  ...    0.0    0.0    0.0    0.0    0.0    0.0    0.0    0.0   \n",
       "2097    0.0  ...    0.0    0.0    0.0    0.0    0.0    0.0    0.0    0.0   \n",
       "2099    0.0  ...    0.0    0.0    0.0    0.0    0.0    0.0    0.0    0.0   \n",
       "2100    0.0  ...    0.0    0.0    0.0    0.0    0.0    0.0    0.0    0.0   \n",
       "\n",
       "item  18559  18575  \n",
       "user                \n",
       "2       0.0    0.0  \n",
       "3       0.0    0.0  \n",
       "4       0.0    0.0  \n",
       "5       0.0    0.0  \n",
       "6       0.0    0.0  \n",
       "...     ...    ...  \n",
       "2095    0.0    0.0  \n",
       "2096    0.0    0.0  \n",
       "2097    0.0    0.0  \n",
       "2099    0.0    0.0  \n",
       "2100    0.0    0.0  \n",
       "\n",
       "[1880 rows x 2500 columns]"
      ]
     },
     "execution_count": null,
     "metadata": {},
     "output_type": "execute_result"
    }
   ],
   "source": [
    "user_item_df = user_artist_df.pivot(index=\"user\", columns=\"item\", values=\"weight\").fillna(0)\n",
    "user_item_df"
   ]
  },
  {
   "cell_type": "code",
   "execution_count": null,
   "id": "273b58dd-f083-4ca8-9c42-4d693fb3a993",
   "metadata": {},
   "outputs": [
    {
     "data": {
      "text/plain": [
       "<1880x2500 sparse matrix of type '<class 'numpy.float64'>'\n",
       "\twith 67009 stored elements in Compressed Sparse Row format>"
      ]
     },
     "execution_count": null,
     "metadata": {},
     "output_type": "execute_result"
    }
   ],
   "source": [
    "# implicit wants sparse matrices (user, item), the docs say (item, user) but they are outdated,\n",
    "# look at their source code instead\n",
    "user_item_csr = scipy.sparse.csr_matrix(user_item_df.values)\n",
    "user_item_csr"
   ]
  },
  {
   "cell_type": "code",
   "execution_count": null,
   "id": "cf86a745-f1cc-44b0-acee-8b6257147f95",
   "metadata": {},
   "outputs": [
    {
     "data": {
      "text/plain": [
       "(<1880x2500 sparse matrix of type '<class 'numpy.float64'>'\n",
       " \twith 47004 stored elements in Compressed Sparse Row format>,\n",
       " <1880x2500 sparse matrix of type '<class 'numpy.float64'>'\n",
       " \twith 13362 stored elements in Compressed Sparse Row format>)"
      ]
     },
     "execution_count": null,
     "metadata": {},
     "output_type": "execute_result"
    }
   ],
   "source": [
    "# split into 0.7 train 0.2 val 0.1 test\n",
    "from implicit import evaluation\n",
    "import numpy as np\n",
    "\n",
    "seed = 42\n",
    "rng = np.random.default_rng(seed=seed)\n",
    "\n",
    "train_csr, tmp_csr = evaluation.train_test_split(user_item_csr, train_percentage=0.7, random_state=seed)\n",
    "val_csr, test_csr = evaluation.train_test_split(tmp_csr, train_percentage=2/3, random_state=seed)\n",
    "train_csr, val_csr"
   ]
  },
  {
   "cell_type": "code",
   "execution_count": null,
   "id": "c4ff4015-5bad-4b4d-bcb4-9ced8db0d9a4",
   "metadata": {},
   "outputs": [],
   "source": [
    "from typing import Dict, Sequence\n",
    "from scipy import sparse\n",
    "import itertools as it\n",
    "import pprint\n",
    "\n",
    "\n",
    "\n",
    "# NOTE add possibility of using different evaluation metric if needed\n",
    "def grid_search(train_mat: sparse.csr_matrix, valid_mat: sparse.csr_matrix, hyperparams: Dict[str, Sequence], best_model_path: str, best_model_hyperp_path: str) -> implicit.als.AlternatingLeastSquares:\n",
    "    print(\"Hyperparameters in grid search:\")\n",
    "    pprint.pprint(hyperparams)\n",
    "    hyperparams_comb = list(map(lambda vals: dict(zip(hyperparams.keys(), vals)), list(it.product(*hyperparams.values()))))\n",
    "\n",
    "    best_model_score, best_model, best_model_hyperp = -1.0, None, None\n",
    "\n",
    "    for hyperparams in hyperparams_comb:\n",
    "        model = implicit.als.AlternatingLeastSquares(**hyperparams)\n",
    "        model.fit(train_mat)\n",
    "        score = evaluation.ranking_metrics_at_k(model, train_mat, valid_mat)[\"map\"]\n",
    "\n",
    "        if score > best_model_score:\n",
    "            print(f\"Best model found! old score: {score} new map {score} hyperp: {hyperparams}\")\n",
    "            best_model_score = score\n",
    "            best_model = deepcopy(model)\n",
    "            best_model_hyperp = hyperparams\n",
    "\n",
    "    best_model.save(best_model_path)\n",
    "    print(f\"Saved best model to {best_model_path}\")\n",
    "    with open(best_model_hyperp_path, \"w\") as fd:\n",
    "        fd.write(\"factor,regularizer,alpha\\n\")\n",
    "        fd.write(\",\".join(list(map(str, best_model_hyperp))))\n",
    "    print(f\"Saved best model hyperparams to {best_model_hyperp_path}\")\n",
    "    return best_model"
   ]
  },
  {
   "cell_type": "code",
   "execution_count": null,
   "id": "07305255-f900-45a2-9c9f-57647733f916",
   "metadata": {},
   "outputs": [],
   "source": [
    "gt_hyperp = {\n",
    "    \"factors\": [16, 32, 64, 128],\n",
    "    \"regularization\": [0.01, 0.1, 1.0, 10.0],\n",
    "    \"alpha\": [0.1, 1.0, 10.0, 100.0]\n",
    "}\n",
    "\n",
    "best_gt_path = config.MODELS_DIR / \"lastfm_gt_best.npz\"\n",
    "best_gt_hyperp_path = config.MODELS_DIR / \"lastfm_gt_best_hyperp.txt\""
   ]
  },
  {
   "cell_type": "code",
   "execution_count": null,
   "id": "7cc659ce-6c13-4cf2-a1cf-cc60bfe4d6f2",
   "metadata": {},
   "outputs": [
    {
     "name": "stdout",
     "output_type": "stream",
     "text": [
      "Hyperparameters in grid search:\n",
      "{'alpha': [100.0], 'factors': [16, 32], 'regularization': [0.1]}\n"
     ]
    },
    {
     "data": {
      "application/vnd.jupyter.widget-view+json": {
       "model_id": "81cdfbb5860a480c8dbef6f77f816c26",
       "version_major": 2,
       "version_minor": 0
      },
      "text/plain": [
       "  0%|          | 0/15 [00:00<?, ?it/s]"
      ]
     },
     "metadata": {},
     "output_type": "display_data"
    },
    {
     "data": {
      "application/vnd.jupyter.widget-view+json": {
       "model_id": "5957c5e8dbcf45569f853b685f07c329",
       "version_major": 2,
       "version_minor": 0
      },
      "text/plain": [
       "  0%|          | 0/1839 [00:00<?, ?it/s]"
      ]
     },
     "metadata": {},
     "output_type": "display_data"
    },
    {
     "name": "stdout",
     "output_type": "stream",
     "text": [
      "Best model found! old score: 0.03246602210154813 new map 0.03246602210154813 hyperp: {'factors': 16, 'regularization': 0.1, 'alpha': 100.0}\n"
     ]
    },
    {
     "data": {
      "application/vnd.jupyter.widget-view+json": {
       "model_id": "1f6ebc5fdb1e4ccfbb3a7b907cc2e0c9",
       "version_major": 2,
       "version_minor": 0
      },
      "text/plain": [
       "  0%|          | 0/15 [00:00<?, ?it/s]"
      ]
     },
     "metadata": {},
     "output_type": "display_data"
    },
    {
     "data": {
      "application/vnd.jupyter.widget-view+json": {
       "model_id": "75530b6b57204be0a3ec91c169478624",
       "version_major": 2,
       "version_minor": 0
      },
      "text/plain": [
       "  0%|          | 0/1839 [00:00<?, ?it/s]"
      ]
     },
     "metadata": {},
     "output_type": "display_data"
    },
    {
     "name": "stdout",
     "output_type": "stream",
     "text": [
      "Best model found! old score: 0.04987967763284003 new map 0.04987967763284003 hyperp: {'factors': 32, 'regularization': 0.1, 'alpha': 100.0}\n",
      "Saved best model to ../models/lastfm_gt_best.npz\n",
      "Saved best model hyperparams to ../models/lastfm_gt_best_hyperp.txt\n"
     ]
    }
   ],
   "source": [
    "best_model = grid_search(train_csr, val_csr, gt_hyperp, best_gt_path, best_gt_hyperp_path)"
   ]
  },
  {
   "cell_type": "code",
   "execution_count": null,
   "id": "0a4c53d6-bf27-4245-b690-bd8f0a8e701b",
   "metadata": {},
   "outputs": [],
   "source": [
    "# low-rank matrix completion\n",
    "ground_truth = best_model.user_factors @ best_model.item_factors.T"
   ]
  },
  {
   "cell_type": "code",
   "execution_count": null,
   "id": "dc86c080-e19e-4a72-a5c5-24eeea06bb3e",
   "metadata": {},
   "outputs": [
    {
     "name": "stdout",
     "output_type": "stream",
     "text": [
      "940000\n"
     ]
    },
    {
     "data": {
      "text/plain": [
       "(<1880x2500 sparse matrix of type '<class 'numpy.float32'>'\n",
       " \twith 636319 stored elements in Compressed Sparse Row format>,\n",
       " <1880x2500 sparse matrix of type '<class 'numpy.float32'>'\n",
       " \twith 110590 stored elements in Compressed Sparse Row format>)"
      ]
     },
     "execution_count": null,
     "metadata": {},
     "output_type": "execute_result"
    }
   ],
   "source": [
    "indices = [(i, j) for i in range(ground_truth.shape[0]) for j in range(ground_truth.shape[1])]\n",
    "# we mask 80% of the ground truth data because in section 5.1 they say:\n",
    "# the simulated recommender system estimates relevance scores using low-rank\n",
    "# matrix completion (Bell and Sejnowski 1995) on a training sample of 20% of\n",
    "# the ground truth preferences\n",
    "kept_preferences = rng.choice(indices, size=int(0.2*len(indices)), replace=False)\n",
    "print(len(kept_preferences))\n",
    "\n",
    "ground_truth_masked = np.zeros_like(ground_truth)\n",
    "for i, j in kept_preferences:\n",
    "    ground_truth_masked[i, j] = ground_truth[i, j]\n",
    "ground_truth_masked_sparse = scipy.sparse.csr_matrix(ground_truth_masked)\n",
    "\n",
    "rec_train_csr, tmp_csr = evaluation.train_test_split(ground_truth_masked_sparse, train_percentage=0.7, random_state=seed)\n",
    "rec_val_csr, rec_test_csr = evaluation.train_test_split(tmp_csr, train_percentage=2/3, random_state=seed)\n",
    "rec_train_csr, rec_val_csr"
   ]
  },
  {
   "cell_type": "code",
   "execution_count": null,
   "id": "6449285f-8512-4ebb-a25f-06cdb577c28b",
   "metadata": {},
   "outputs": [],
   "source": [
    "recommender_hyperp = {\n",
    "    \"factors\": [2**i for i in range(9)],\n",
    "    \"regularization\": [10**(i-3) for i in range(4)],\n",
    "    \"alpha\": [0.1, 1.0, 10.0, 100.0]\n",
    "}\n",
    "\n",
    "best_recommender_path = config.MODELS_DIR / \"lastfm_best.npz\"\n",
    "best_recommender_hyperp_path = config.MODELS_DIR / \"lastfm_best_hyperp.txt\""
   ]
  },
  {
   "cell_type": "code",
   "execution_count": null,
   "id": "1b0f13fa-62cb-477c-aa5e-7832eea9eb72",
   "metadata": {},
   "outputs": [
    {
     "name": "stdout",
     "output_type": "stream",
     "text": [
      "Hyperparameters in grid search:\n",
      "{'alpha': [0.1, 1.0, 10.0, 100.0],\n",
      " 'factors': [1, 2, 4, 8, 16, 32, 64, 128, 256],\n",
      " 'regularization': [0.001, 0.01, 0.1, 1]}\n"
     ]
    },
    {
     "data": {
      "application/vnd.jupyter.widget-view+json": {
       "model_id": "97d122f0f6df4684a536dc42e79d1b36",
       "version_major": 2,
       "version_minor": 0
      },
      "text/plain": [
       "  0%|          | 0/15 [00:00<?, ?it/s]"
      ]
     },
     "metadata": {},
     "output_type": "display_data"
    },
    {
     "data": {
      "application/vnd.jupyter.widget-view+json": {
       "model_id": "2f097c39d73b4348b68930ff6a4e5abd",
       "version_major": 2,
       "version_minor": 0
      },
      "text/plain": [
       "  0%|          | 0/1867 [00:00<?, ?it/s]"
      ]
     },
     "metadata": {},
     "output_type": "display_data"
    },
    {
     "name": "stdout",
     "output_type": "stream",
     "text": [
      "Best model found! old score: 0.015075411703692419 new map 0.015075411703692419 hyperp: {'factors': 1, 'regularization': 0.001, 'alpha': 0.1}\n"
     ]
    },
    {
     "data": {
      "application/vnd.jupyter.widget-view+json": {
       "model_id": "d089f08f387a47a2abf344e4e520a6a1",
       "version_major": 2,
       "version_minor": 0
      },
      "text/plain": [
       "  0%|          | 0/15 [00:00<?, ?it/s]"
      ]
     },
     "metadata": {},
     "output_type": "display_data"
    },
    {
     "data": {
      "application/vnd.jupyter.widget-view+json": {
       "model_id": "de135dd8ed144ffcaf966953af99a314",
       "version_major": 2,
       "version_minor": 0
      },
      "text/plain": [
       "  0%|          | 0/1867 [00:00<?, ?it/s]"
      ]
     },
     "metadata": {},
     "output_type": "display_data"
    },
    {
     "data": {
      "application/vnd.jupyter.widget-view+json": {
       "model_id": "36768eb018b441e093eb65d5d1f8e318",
       "version_major": 2,
       "version_minor": 0
      },
      "text/plain": [
       "  0%|          | 0/15 [00:00<?, ?it/s]"
      ]
     },
     "metadata": {},
     "output_type": "display_data"
    },
    {
     "data": {
      "application/vnd.jupyter.widget-view+json": {
       "model_id": "8f3f991db76c4e8aab072c4ce9d39d58",
       "version_major": 2,
       "version_minor": 0
      },
      "text/plain": [
       "  0%|          | 0/1867 [00:00<?, ?it/s]"
      ]
     },
     "metadata": {},
     "output_type": "display_data"
    },
    {
     "data": {
      "application/vnd.jupyter.widget-view+json": {
       "model_id": "c12c5e6f8fab448a9dfef0def746c0a1",
       "version_major": 2,
       "version_minor": 0
      },
      "text/plain": [
       "  0%|          | 0/15 [00:00<?, ?it/s]"
      ]
     },
     "metadata": {},
     "output_type": "display_data"
    },
    {
     "data": {
      "application/vnd.jupyter.widget-view+json": {
       "model_id": "ca5b69d8f9704b8f941602082dfbb758",
       "version_major": 2,
       "version_minor": 0
      },
      "text/plain": [
       "  0%|          | 0/1867 [00:00<?, ?it/s]"
      ]
     },
     "metadata": {},
     "output_type": "display_data"
    },
    {
     "name": "stdout",
     "output_type": "stream",
     "text": [
      "Best model found! old score: 0.015089439810918186 new map 0.015089439810918186 hyperp: {'factors': 1, 'regularization': 0.001, 'alpha': 100.0}\n"
     ]
    },
    {
     "data": {
      "application/vnd.jupyter.widget-view+json": {
       "model_id": "d04f038ce3e94777b673988d677680a9",
       "version_major": 2,
       "version_minor": 0
      },
      "text/plain": [
       "  0%|          | 0/15 [00:00<?, ?it/s]"
      ]
     },
     "metadata": {},
     "output_type": "display_data"
    },
    {
     "data": {
      "application/vnd.jupyter.widget-view+json": {
       "model_id": "fe5ed482bcca4cbfab7a1d977041f69c",
       "version_major": 2,
       "version_minor": 0
      },
      "text/plain": [
       "  0%|          | 0/1867 [00:00<?, ?it/s]"
      ]
     },
     "metadata": {},
     "output_type": "display_data"
    },
    {
     "data": {
      "application/vnd.jupyter.widget-view+json": {
       "model_id": "21d82e4259fb43b5b49774cd99149558",
       "version_major": 2,
       "version_minor": 0
      },
      "text/plain": [
       "  0%|          | 0/15 [00:00<?, ?it/s]"
      ]
     },
     "metadata": {},
     "output_type": "display_data"
    },
    {
     "ename": "KeyboardInterrupt",
     "evalue": "",
     "output_type": "error",
     "traceback": [
      "\u001b[0;31m---------------------------------------------------------------------------\u001b[0m",
      "\u001b[0;31mKeyboardInterrupt\u001b[0m                         Traceback (most recent call last)",
      "Cell \u001b[0;32mIn[91], line 1\u001b[0m\n\u001b[0;32m----> 1\u001b[0m best_recommender \u001b[38;5;241m=\u001b[39m \u001b[43mgrid_search\u001b[49m\u001b[43m(\u001b[49m\u001b[43mrec_train_csr\u001b[49m\u001b[43m,\u001b[49m\u001b[43m \u001b[49m\u001b[43mrec_val_csr\u001b[49m\u001b[43m,\u001b[49m\u001b[43m \u001b[49m\u001b[43mrecommender_hyperp\u001b[49m\u001b[43m,\u001b[49m\u001b[43m \u001b[49m\u001b[43mbest_recommender_path\u001b[49m\u001b[43m,\u001b[49m\u001b[43m \u001b[49m\u001b[43mbest_recommender_hyperp_path\u001b[49m\u001b[43m)\u001b[49m\n",
      "Cell \u001b[0;32mIn[74], line 18\u001b[0m, in \u001b[0;36mgrid_search\u001b[0;34m(train_mat, valid_mat, hyperparams, best_model_path, best_model_hyperp_path)\u001b[0m\n\u001b[1;32m     16\u001b[0m \u001b[38;5;28;01mfor\u001b[39;00m hyperparams \u001b[38;5;129;01min\u001b[39;00m hyperparams_comb:\n\u001b[1;32m     17\u001b[0m     model \u001b[38;5;241m=\u001b[39m implicit\u001b[38;5;241m.\u001b[39mals\u001b[38;5;241m.\u001b[39mAlternatingLeastSquares(\u001b[38;5;241m*\u001b[39m\u001b[38;5;241m*\u001b[39mhyperparams)\n\u001b[0;32m---> 18\u001b[0m     \u001b[43mmodel\u001b[49m\u001b[38;5;241;43m.\u001b[39;49m\u001b[43mfit\u001b[49m\u001b[43m(\u001b[49m\u001b[43mtrain_mat\u001b[49m\u001b[43m)\u001b[49m\n\u001b[1;32m     19\u001b[0m     score \u001b[38;5;241m=\u001b[39m evaluation\u001b[38;5;241m.\u001b[39mranking_metrics_at_k(model, train_mat, valid_mat)[\u001b[38;5;124m\"\u001b[39m\u001b[38;5;124mmap\u001b[39m\u001b[38;5;124m\"\u001b[39m]\n\u001b[1;32m     21\u001b[0m     \u001b[38;5;28;01mif\u001b[39;00m score \u001b[38;5;241m>\u001b[39m best_model_score:\n",
      "File \u001b[0;32m~/py_envs/FACT/lib/python3.10/site-packages/implicit/cpu/als.py:170\u001b[0m, in \u001b[0;36mAlternatingLeastSquares.fit\u001b[0;34m(self, user_items, show_progress, callback)\u001b[0m\n\u001b[1;32m    162\u001b[0m s \u001b[38;5;241m=\u001b[39m time\u001b[38;5;241m.\u001b[39mtime()\n\u001b[1;32m    163\u001b[0m solver(\n\u001b[1;32m    164\u001b[0m     Cui,\n\u001b[1;32m    165\u001b[0m     \u001b[38;5;28mself\u001b[39m\u001b[38;5;241m.\u001b[39muser_factors,\n\u001b[0;32m   (...)\u001b[0m\n\u001b[1;32m    168\u001b[0m     num_threads\u001b[38;5;241m=\u001b[39m\u001b[38;5;28mself\u001b[39m\u001b[38;5;241m.\u001b[39mnum_threads,\n\u001b[1;32m    169\u001b[0m )\n\u001b[0;32m--> 170\u001b[0m \u001b[43msolver\u001b[49m\u001b[43m(\u001b[49m\n\u001b[1;32m    171\u001b[0m \u001b[43m    \u001b[49m\u001b[43mCiu\u001b[49m\u001b[43m,\u001b[49m\n\u001b[1;32m    172\u001b[0m \u001b[43m    \u001b[49m\u001b[38;5;28;43mself\u001b[39;49m\u001b[38;5;241;43m.\u001b[39;49m\u001b[43mitem_factors\u001b[49m\u001b[43m,\u001b[49m\n\u001b[1;32m    173\u001b[0m \u001b[43m    \u001b[49m\u001b[38;5;28;43mself\u001b[39;49m\u001b[38;5;241;43m.\u001b[39;49m\u001b[43muser_factors\u001b[49m\u001b[43m,\u001b[49m\n\u001b[1;32m    174\u001b[0m \u001b[43m    \u001b[49m\u001b[38;5;28;43mself\u001b[39;49m\u001b[38;5;241;43m.\u001b[39;49m\u001b[43mregularization\u001b[49m\u001b[43m,\u001b[49m\n\u001b[1;32m    175\u001b[0m \u001b[43m    \u001b[49m\u001b[43mnum_threads\u001b[49m\u001b[38;5;241;43m=\u001b[39;49m\u001b[38;5;28;43mself\u001b[39;49m\u001b[38;5;241;43m.\u001b[39;49m\u001b[43mnum_threads\u001b[49m\u001b[43m,\u001b[49m\n\u001b[1;32m    176\u001b[0m \u001b[43m\u001b[49m\u001b[43m)\u001b[49m\n\u001b[1;32m    177\u001b[0m progress\u001b[38;5;241m.\u001b[39mupdate(\u001b[38;5;241m1\u001b[39m)\n\u001b[1;32m    179\u001b[0m \u001b[38;5;28;01mif\u001b[39;00m \u001b[38;5;28mself\u001b[39m\u001b[38;5;241m.\u001b[39mcalculate_training_loss:\n",
      "\u001b[0;31mKeyboardInterrupt\u001b[0m: "
     ]
    }
   ],
   "source": [
    "best_recommender = grid_search(rec_train_csr, rec_val_csr, recommender_hyperp, best_recommender_path, best_recommender_hyperp_path)"
   ]
  }
 ],
 "metadata": {
  "kernelspec": {
   "display_name": "Python 3 (ipykernel)",
   "language": "python",
   "name": "python3"
  }
 },
 "nbformat": 4,
 "nbformat_minor": 5
}
