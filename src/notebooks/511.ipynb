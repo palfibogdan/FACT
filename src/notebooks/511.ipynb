{
 "cells": [
  {
   "cell_type": "code",
   "execution_count": null,
   "id": "130c66f0-7225-42de-9a48-2cbee26fbeb4",
   "metadata": {},
   "outputs": [
    {
     "name": "stdout",
     "output_type": "stream",
     "text": [
      "/home/xqz-u/master/FACT/FACT/src\n"
     ]
    },
    {
     "data": {
      "text/plain": [
       "'/home/xqz-u/master/FACT/FACT/src'"
      ]
     },
     "execution_count": null,
     "metadata": {},
     "output_type": "execute_result"
    }
   ],
   "source": [
    "import os\n",
    "\n",
    "if not os.getcwd().endswith(\"src\"):\n",
    "    %cd ..\n",
    "%pwd"
   ]
  },
  {
   "cell_type": "code",
   "execution_count": null,
   "id": "d2b23d4a-c900-4425-8db3-14b527ca108d",
   "metadata": {},
   "outputs": [],
   "source": [
    "import pandas as pd\n",
    "\n",
    "import config\n",
    "import plot\n",
    "import sources_of_envy"
   ]
  },
  {
   "cell_type": "code",
   "execution_count": null,
   "id": "02d03ef9-38bc-471d-bffc-ce16ef495256",
   "metadata": {},
   "outputs": [
    {
     "data": {
      "text/plain": [
       "{'lastfm': {'mean_envy': {64: 0.0001342113,\n",
       "   256: 7.286528e-05,\n",
       "   4: 0.00043151432,\n",
       "   8: 0.0003858279,\n",
       "   128: 0.00010950758,\n",
       "   32: 0.0001606485,\n",
       "   2: 0.00040305665,\n",
       "   1: 0.0002951046,\n",
       "   6: 1.8779431e-09,\n",
       "   16: 0.0002720793},\n",
       "  'prop_eps_envy': {64: 0.0,\n",
       "   256: 0.0,\n",
       "   4: 0.0,\n",
       "   8: 0.0,\n",
       "   128: 0.0,\n",
       "   32: 0.0,\n",
       "   2: 0.0,\n",
       "   1: 0.0,\n",
       "   6: 0.0,\n",
       "   16: 0.0}},\n",
       " 'movielens': {'mean_envy': {64: 0.00044677305,\n",
       "   256: 0.000599399,\n",
       "   4: 0.0015320089,\n",
       "   8: 0.0009227462,\n",
       "   128: 0.00048691157,\n",
       "   32: 0.00043825162,\n",
       "   2: 0.002754531,\n",
       "   1: 0.003061911,\n",
       "   16: 0.00043108384},\n",
       "  'prop_eps_envy': {64: 0.0,\n",
       "   256: 0.0,\n",
       "   4: 0.0,\n",
       "   8: 0.0,\n",
       "   128: 0.0,\n",
       "   32: 0.0,\n",
       "   2: 0.0,\n",
       "   1: 0.0,\n",
       "   16: 0.0}}}"
      ]
     },
     "execution_count": null,
     "metadata": {},
     "output_type": "execute_result"
    }
   ],
   "source": [
    "metrics = sources_of_envy.do_envy_from_mispecification()\n",
    "metrics"
   ]
  },
  {
   "cell_type": "code",
   "execution_count": null,
   "id": "c4ace796-62c2-4128-b550-5bb45ab1dd44",
   "metadata": {},
   "outputs": [
    {
     "data": {
      "text/html": [
       "<div>\n",
       "<style scoped>\n",
       "    .dataframe tbody tr th:only-of-type {\n",
       "        vertical-align: middle;\n",
       "    }\n",
       "\n",
       "    .dataframe tbody tr th {\n",
       "        vertical-align: top;\n",
       "    }\n",
       "\n",
       "    .dataframe thead th {\n",
       "        text-align: right;\n",
       "    }\n",
       "</style>\n",
       "<table border=\"1\" class=\"dataframe\">\n",
       "  <thead>\n",
       "    <tr style=\"text-align: right;\">\n",
       "      <th></th>\n",
       "      <th>factors</th>\n",
       "      <th>mean_envy</th>\n",
       "      <th>prop_eps_envy</th>\n",
       "      <th>dataset</th>\n",
       "    </tr>\n",
       "  </thead>\n",
       "  <tbody>\n",
       "    <tr>\n",
       "      <th>0</th>\n",
       "      <td>64</td>\n",
       "      <td>1.342113e-04</td>\n",
       "      <td>0.0</td>\n",
       "      <td>lastfm</td>\n",
       "    </tr>\n",
       "    <tr>\n",
       "      <th>1</th>\n",
       "      <td>256</td>\n",
       "      <td>7.286528e-05</td>\n",
       "      <td>0.0</td>\n",
       "      <td>lastfm</td>\n",
       "    </tr>\n",
       "    <tr>\n",
       "      <th>2</th>\n",
       "      <td>4</td>\n",
       "      <td>4.315143e-04</td>\n",
       "      <td>0.0</td>\n",
       "      <td>lastfm</td>\n",
       "    </tr>\n",
       "    <tr>\n",
       "      <th>3</th>\n",
       "      <td>8</td>\n",
       "      <td>3.858279e-04</td>\n",
       "      <td>0.0</td>\n",
       "      <td>lastfm</td>\n",
       "    </tr>\n",
       "    <tr>\n",
       "      <th>4</th>\n",
       "      <td>128</td>\n",
       "      <td>1.095076e-04</td>\n",
       "      <td>0.0</td>\n",
       "      <td>lastfm</td>\n",
       "    </tr>\n",
       "    <tr>\n",
       "      <th>5</th>\n",
       "      <td>32</td>\n",
       "      <td>1.606485e-04</td>\n",
       "      <td>0.0</td>\n",
       "      <td>lastfm</td>\n",
       "    </tr>\n",
       "    <tr>\n",
       "      <th>6</th>\n",
       "      <td>2</td>\n",
       "      <td>4.030566e-04</td>\n",
       "      <td>0.0</td>\n",
       "      <td>lastfm</td>\n",
       "    </tr>\n",
       "    <tr>\n",
       "      <th>7</th>\n",
       "      <td>1</td>\n",
       "      <td>2.951046e-04</td>\n",
       "      <td>0.0</td>\n",
       "      <td>lastfm</td>\n",
       "    </tr>\n",
       "    <tr>\n",
       "      <th>8</th>\n",
       "      <td>6</td>\n",
       "      <td>1.877943e-09</td>\n",
       "      <td>0.0</td>\n",
       "      <td>lastfm</td>\n",
       "    </tr>\n",
       "    <tr>\n",
       "      <th>9</th>\n",
       "      <td>16</td>\n",
       "      <td>2.720793e-04</td>\n",
       "      <td>0.0</td>\n",
       "      <td>lastfm</td>\n",
       "    </tr>\n",
       "    <tr>\n",
       "      <th>0</th>\n",
       "      <td>64</td>\n",
       "      <td>4.467730e-04</td>\n",
       "      <td>0.0</td>\n",
       "      <td>movielens</td>\n",
       "    </tr>\n",
       "    <tr>\n",
       "      <th>1</th>\n",
       "      <td>256</td>\n",
       "      <td>5.993990e-04</td>\n",
       "      <td>0.0</td>\n",
       "      <td>movielens</td>\n",
       "    </tr>\n",
       "    <tr>\n",
       "      <th>2</th>\n",
       "      <td>4</td>\n",
       "      <td>1.532009e-03</td>\n",
       "      <td>0.0</td>\n",
       "      <td>movielens</td>\n",
       "    </tr>\n",
       "    <tr>\n",
       "      <th>3</th>\n",
       "      <td>8</td>\n",
       "      <td>9.227462e-04</td>\n",
       "      <td>0.0</td>\n",
       "      <td>movielens</td>\n",
       "    </tr>\n",
       "    <tr>\n",
       "      <th>4</th>\n",
       "      <td>128</td>\n",
       "      <td>4.869116e-04</td>\n",
       "      <td>0.0</td>\n",
       "      <td>movielens</td>\n",
       "    </tr>\n",
       "    <tr>\n",
       "      <th>5</th>\n",
       "      <td>32</td>\n",
       "      <td>4.382516e-04</td>\n",
       "      <td>0.0</td>\n",
       "      <td>movielens</td>\n",
       "    </tr>\n",
       "    <tr>\n",
       "      <th>6</th>\n",
       "      <td>2</td>\n",
       "      <td>2.754531e-03</td>\n",
       "      <td>0.0</td>\n",
       "      <td>movielens</td>\n",
       "    </tr>\n",
       "    <tr>\n",
       "      <th>7</th>\n",
       "      <td>1</td>\n",
       "      <td>3.061911e-03</td>\n",
       "      <td>0.0</td>\n",
       "      <td>movielens</td>\n",
       "    </tr>\n",
       "    <tr>\n",
       "      <th>8</th>\n",
       "      <td>16</td>\n",
       "      <td>4.310838e-04</td>\n",
       "      <td>0.0</td>\n",
       "      <td>movielens</td>\n",
       "    </tr>\n",
       "  </tbody>\n",
       "</table>\n",
       "</div>"
      ],
      "text/plain": [
       "   factors     mean_envy  prop_eps_envy    dataset\n",
       "0       64  1.342113e-04            0.0     lastfm\n",
       "1      256  7.286528e-05            0.0     lastfm\n",
       "2        4  4.315143e-04            0.0     lastfm\n",
       "3        8  3.858279e-04            0.0     lastfm\n",
       "4      128  1.095076e-04            0.0     lastfm\n",
       "5       32  1.606485e-04            0.0     lastfm\n",
       "6        2  4.030566e-04            0.0     lastfm\n",
       "7        1  2.951046e-04            0.0     lastfm\n",
       "8        6  1.877943e-09            0.0     lastfm\n",
       "9       16  2.720793e-04            0.0     lastfm\n",
       "0       64  4.467730e-04            0.0  movielens\n",
       "1      256  5.993990e-04            0.0  movielens\n",
       "2        4  1.532009e-03            0.0  movielens\n",
       "3        8  9.227462e-04            0.0  movielens\n",
       "4      128  4.869116e-04            0.0  movielens\n",
       "5       32  4.382516e-04            0.0  movielens\n",
       "6        2  2.754531e-03            0.0  movielens\n",
       "7        1  3.061911e-03            0.0  movielens\n",
       "8       16  4.310838e-04            0.0  movielens"
      ]
     },
     "execution_count": null,
     "metadata": {},
     "output_type": "execute_result"
    }
   ],
   "source": [
    "df = pd.DataFrame()\n",
    "\n",
    "for dataset in metrics:\n",
    "    metric_df = pd.DataFrame(metrics[dataset]).reset_index().rename(columns={\"index\": \"factors\"})\n",
    "    metric_df[\"dataset\"] = dataset\n",
    "    df = pd.concat((df, metric_df))\n",
    "\n",
    "df"
   ]
  },
  {
   "cell_type": "code",
   "execution_count": null,
   "id": "ea4cb268-e88f-414c-8022-6acb778f50be",
   "metadata": {},
   "outputs": [
    {
     "data": {
      "text/plain": [
       "<AxesSubplot: xlabel='factors', ylabel='prop_eps_envy'>"
      ]
     },
     "execution_count": null,
     "metadata": {},
     "output_type": "execute_result"
    },
    {
     "data": {
      "image/png": "[encoded data removed]",
      "text/plain": [
       "<Figure size 1000x500 with 2 Axes>"
      ]
     },
     "metadata": {},
     "output_type": "display_data"
    }
   ],
   "source": [
    "import seaborn as sns\n",
    "from matplotlib import pyplot as plt\n",
    "\n",
    "fig, axes = plt.subplots(1, 2, figsize=(10, 5))\n",
    "\n",
    "sns.pointplot(data=df, x=\"factors\", y=\"mean_envy\", hue=\"dataset\", linestyles=[\"-\", \"--\"], ax=axes[0])\n",
    "sns.pointplot(data=df, x=\"factors\", y=\"prop_eps_envy\", hue=\"dataset\", linestyles=[\"-\", \"--\"], ax=axes[1])"
   ]
  }
 ],
 "metadata": {
  "kernelspec": {
   "display_name": "Python 3 (ipykernel)",
   "language": "python",
   "name": "python3"
  }
 },
 "nbformat": 4,
 "nbformat_minor": 5
}
