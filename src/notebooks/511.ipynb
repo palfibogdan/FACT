{
 "cells": [
  {
   "cell_type": "code",
   "execution_count": null,
   "id": "130c66f0-7225-42de-9a48-2cbee26fbeb4",
   "metadata": {},
   "outputs": [
    {
     "name": "stdout",
     "output_type": "stream",
     "text": [
      "/home/xqz-u/master/FACT/FACT/src\n"
     ]
    },
    {
     "data": {
      "text/plain": [
       "'/home/xqz-u/master/FACT/FACT/src'"
      ]
     },
     "execution_count": null,
     "metadata": {},
     "output_type": "execute_result"
    }
   ],
   "source": [
    "import os\n",
    "\n",
    "if not os.getcwd().endswith(\"src\"):\n",
    "    %cd ..\n",
    "%pwd"
   ]
  },
  {
   "cell_type": "code",
   "execution_count": null,
   "id": "d2b23d4a-c900-4425-8db3-14b527ca108d",
   "metadata": {},
   "outputs": [
    {
     "name": "stderr",
     "output_type": "stream",
     "text": [
      "/home/xqz-u/py_envs/FACT/lib/python3.8/site-packages/tqdm/auto.py:22: TqdmWarning: IProgress not found. Please update jupyter and ipywidgets. See https://ipywidgets.readthedocs.io/en/stable/user_install.html\n",
      "  from .autonotebook import tqdm as notebook_tqdm\n",
      "/home/xqz-u/py_envs/FACT/lib/python3.8/site-packages/implicit/gpu/__init__.py:13: UserWarning: CUDA extension is built, but disabling GPU support because of 'Cuda Error: CUDA driver version is insufficient for CUDA runtime version (/project/./implicit/gpu/utils.h:71)'\n",
      "  warnings.warn(\n"
     ]
    }
   ],
   "source": [
    "from matplotlib import pyplot as plt\n",
    "import pandas as pd\n",
    "import seaborn as sns\n",
    "\n",
    "import config\n",
    "import plot\n",
    "import sources_of_envy"
   ]
  },
  {
   "cell_type": "code",
   "execution_count": null,
   "id": "02d03ef9-38bc-471d-bffc-ce16ef495256",
   "metadata": {},
   "outputs": [],
   "source": [
    "metrics = sources_of_envy.do_envy_from_mispecification()"
   ]
  },
  {
   "cell_type": "code",
   "execution_count": null,
   "id": "8a87a2f5-74fb-4561-9d38-ed17fb1d2186",
   "metadata": {},
   "outputs": [
    {
     "data": {
      "text/html": [
       "<div>\n",
       "<style scoped>\n",
       "    .dataframe tbody tr th:only-of-type {\n",
       "        vertical-align: middle;\n",
       "    }\n",
       "\n",
       "    .dataframe tbody tr th {\n",
       "        vertical-align: top;\n",
       "    }\n",
       "\n",
       "    .dataframe thead th {\n",
       "        text-align: right;\n",
       "    }\n",
       "</style>\n",
       "<table border=\"1\" class=\"dataframe\">\n",
       "  <thead>\n",
       "    <tr style=\"text-align: right;\">\n",
       "      <th></th>\n",
       "      <th>mean_envy</th>\n",
       "      <th>prop_eps_envy</th>\n",
       "      <th>dataset</th>\n",
       "    </tr>\n",
       "  </thead>\n",
       "  <tbody>\n",
       "    <tr>\n",
       "      <th>64</th>\n",
       "      <td>0.017805</td>\n",
       "      <td>0.000000</td>\n",
       "      <td>lastfm</td>\n",
       "    </tr>\n",
       "    <tr>\n",
       "      <th>256</th>\n",
       "      <td>0.019420</td>\n",
       "      <td>0.004228</td>\n",
       "      <td>lastfm</td>\n",
       "    </tr>\n",
       "    <tr>\n",
       "      <th>4</th>\n",
       "      <td>0.026027</td>\n",
       "      <td>0.000000</td>\n",
       "      <td>lastfm</td>\n",
       "    </tr>\n",
       "    <tr>\n",
       "      <th>8</th>\n",
       "      <td>0.020739</td>\n",
       "      <td>0.000000</td>\n",
       "      <td>lastfm</td>\n",
       "    </tr>\n",
       "    <tr>\n",
       "      <th>128</th>\n",
       "      <td>0.018643</td>\n",
       "      <td>0.000000</td>\n",
       "      <td>lastfm</td>\n",
       "    </tr>\n",
       "    <tr>\n",
       "      <th>32</th>\n",
       "      <td>0.016648</td>\n",
       "      <td>0.000000</td>\n",
       "      <td>lastfm</td>\n",
       "    </tr>\n",
       "    <tr>\n",
       "      <th>2</th>\n",
       "      <td>0.024371</td>\n",
       "      <td>0.000000</td>\n",
       "      <td>lastfm</td>\n",
       "    </tr>\n",
       "    <tr>\n",
       "      <th>1</th>\n",
       "      <td>0.020557</td>\n",
       "      <td>0.000000</td>\n",
       "      <td>lastfm</td>\n",
       "    </tr>\n",
       "    <tr>\n",
       "      <th>16</th>\n",
       "      <td>0.017279</td>\n",
       "      <td>0.000000</td>\n",
       "      <td>lastfm</td>\n",
       "    </tr>\n",
       "    <tr>\n",
       "      <th>64</th>\n",
       "      <td>0.000430</td>\n",
       "      <td>0.000000</td>\n",
       "      <td>movielens</td>\n",
       "    </tr>\n",
       "    <tr>\n",
       "      <th>256</th>\n",
       "      <td>0.000440</td>\n",
       "      <td>0.000000</td>\n",
       "      <td>movielens</td>\n",
       "    </tr>\n",
       "    <tr>\n",
       "      <th>4</th>\n",
       "      <td>0.002656</td>\n",
       "      <td>0.000000</td>\n",
       "      <td>movielens</td>\n",
       "    </tr>\n",
       "    <tr>\n",
       "      <th>8</th>\n",
       "      <td>0.001472</td>\n",
       "      <td>0.000000</td>\n",
       "      <td>movielens</td>\n",
       "    </tr>\n",
       "    <tr>\n",
       "      <th>128</th>\n",
       "      <td>0.000435</td>\n",
       "      <td>0.000000</td>\n",
       "      <td>movielens</td>\n",
       "    </tr>\n",
       "    <tr>\n",
       "      <th>32</th>\n",
       "      <td>0.000430</td>\n",
       "      <td>0.000000</td>\n",
       "      <td>movielens</td>\n",
       "    </tr>\n",
       "    <tr>\n",
       "      <th>2</th>\n",
       "      <td>0.002928</td>\n",
       "      <td>0.000000</td>\n",
       "      <td>movielens</td>\n",
       "    </tr>\n",
       "    <tr>\n",
       "      <th>1</th>\n",
       "      <td>0.002986</td>\n",
       "      <td>0.000000</td>\n",
       "      <td>movielens</td>\n",
       "    </tr>\n",
       "    <tr>\n",
       "      <th>16</th>\n",
       "      <td>0.000934</td>\n",
       "      <td>0.000000</td>\n",
       "      <td>movielens</td>\n",
       "    </tr>\n",
       "  </tbody>\n",
       "</table>\n",
       "</div>"
      ],
      "text/plain": [
       "     mean_envy  prop_eps_envy    dataset\n",
       "64    0.017805       0.000000     lastfm\n",
       "256   0.019420       0.004228     lastfm\n",
       "4     0.026027       0.000000     lastfm\n",
       "8     0.020739       0.000000     lastfm\n",
       "128   0.018643       0.000000     lastfm\n",
       "32    0.016648       0.000000     lastfm\n",
       "2     0.024371       0.000000     lastfm\n",
       "1     0.020557       0.000000     lastfm\n",
       "16    0.017279       0.000000     lastfm\n",
       "64    0.000430       0.000000  movielens\n",
       "256   0.000440       0.000000  movielens\n",
       "4     0.002656       0.000000  movielens\n",
       "8     0.001472       0.000000  movielens\n",
       "128   0.000435       0.000000  movielens\n",
       "32    0.000430       0.000000  movielens\n",
       "2     0.002928       0.000000  movielens\n",
       "1     0.002986       0.000000  movielens\n",
       "16    0.000934       0.000000  movielens"
      ]
     },
     "execution_count": null,
     "metadata": {},
     "output_type": "execute_result"
    }
   ],
   "source": [
    "df = pd.concat(\n",
    "    [pd.DataFrame(vals).assign(dataset=dataset) for dataset, vals in metrics.items()]\n",
    ")\n",
    "df"
   ]
  },
  {
   "cell_type": "code",
   "execution_count": null,
   "id": "ea4cb268-e88f-414c-8022-6acb778f50be",
   "metadata": {},
   "outputs": [
    {
     "data": {
      "image/png": "[encoded data removed]",
      "text/plain": [
       "<Figure size 1000x500 with 2 Axes>"
      ]
     },
     "metadata": {},
     "output_type": "display_data"
    }
   ],
   "source": [
    "fig, axes = plt.subplots(1, 2, figsize=(10, 5))\n",
    "\n",
    "# sns.pointplot(data=df, x=df.index, y=\"mean_envy\", hue=\"dataset\", linestyles=[\"-\", \"--\"], ax=axes[0])\n",
    "sns.lineplot(data=df, x=df.index, y=\"mean_envy\", hue=\"dataset\", ax=axes[0])\n",
    "axes[0].set_xlim(-10, 120)\n",
    "# sns.pointplot(data=df, x=df.index, y=\"prop_eps_envy\", hue=\"dataset\", linestyles=[\"-\", \"--\"], ax=axes[1])\n",
    "sns.lineplot(data=df, x=df.index, y=\"prop_eps_envy\", hue=\"dataset\", ax=axes[1])\n",
    "axes[1].set_xlim(-10, 120)\n",
    "plt.tight_layout()"
   ]
  }
 ],
 "metadata": {
  "kernelspec": {
   "display_name": "Python 3 (ipykernel)",
   "language": "python",
   "name": "python3"
  }
 },
 "nbformat": 4,
 "nbformat_minor": 5
}
