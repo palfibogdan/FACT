{
 "cells": [
  {
   "cell_type": "code",
   "execution_count": null,
   "id": "130c66f0-7225-42de-9a48-2cbee26fbeb4",
   "metadata": {},
   "outputs": [
    {
     "name": "stdout",
     "output_type": "stream",
     "text": [
      "/home/xqz-u/master/FACT/FACT/src\n"
     ]
    },
    {
     "data": {
      "text/plain": [
       "'/home/xqz-u/master/FACT/FACT/src'"
      ]
     },
     "execution_count": null,
     "metadata": {},
     "output_type": "execute_result"
    }
   ],
   "source": [
    "import os\n",
    "\n",
    "if not os.getcwd().endswith(\"src\"):\n",
    "    %cd ..\n",
    "%pwd"
   ]
  },
  {
   "cell_type": "code",
   "execution_count": null,
   "id": "d2b23d4a-c900-4425-8db3-14b527ca108d",
   "metadata": {},
   "outputs": [
    {
     "name": "stderr",
     "output_type": "stream",
     "text": [
      "/home/xqz-u/py_envs/FACT/lib/python3.8/site-packages/tqdm/auto.py:22: TqdmWarning: IProgress not found. Please update jupyter and ipywidgets. See https://ipywidgets.readthedocs.io/en/stable/user_install.html\n",
      "  from .autonotebook import tqdm as notebook_tqdm\n",
      "/home/xqz-u/py_envs/FACT/lib/python3.8/site-packages/implicit/gpu/__init__.py:13: UserWarning: CUDA extension is built, but disabling GPU support because of 'Cuda Error: CUDA driver version is insufficient for CUDA runtime version (/project/./implicit/gpu/utils.h:71)'\n",
      "  warnings.warn(\n"
     ]
    }
   ],
   "source": [
    "import dataclasses\n",
    "import pprint\n",
    "\n",
    "from matplotlib import pyplot as plt\n",
    "import pandas as pd\n",
    "import seaborn as sns\n",
    "\n",
    "import config\n",
    "import sources_of_envy"
   ]
  },
  {
   "cell_type": "code",
   "execution_count": null,
   "id": "702cd14d-fbb1-4f1c-b1bb-360d396d4719",
   "metadata": {},
   "outputs": [
    {
     "name": "stdout",
     "output_type": "stream",
     "text": [
      "{'assets_root_dir': PosixPath('..'),\n",
      " 'datasets': ['lastfm', 'movielens'],\n",
      " 'epsilon': 0.05,\n",
      " 'evaluation_k': 40,\n",
      " 'experiment': None,\n",
      " 'ground_truth_files': {'lastfm': PosixPath('../lastfm/models/model_ground_truth.npz'),\n",
      "                        'movielens': PosixPath('../movielens/models/model_ground_truth.npz')},\n",
      " 'ground_truth_models': {'lastfm': <class 'recommender_models.ALS'>,\n",
      "                         'movielens': <class 'recommender_models.ALS'>},\n",
      " 'lastfm_ground_truth_file': PosixPath('../lastfm/models/model_ground_truth.npz'),\n",
      " 'lastfm_ground_truth_model': <class 'recommender_models.ALS'>,\n",
      " 'lastfm_recommender_dir': PosixPath('../lastfm/models'),\n",
      " 'lastfm_recommender_model': <class 'recommender_models.ALS'>,\n",
      " 'lastfm_topk_artists': 2500,\n",
      " 'model_base_name': 'model',\n",
      " 'movielens_ground_truth_file': PosixPath('../movielens/models/model_ground_truth.npz'),\n",
      " 'movielens_ground_truth_model': <class 'recommender_models.ALS'>,\n",
      " 'movielens_recommender_dir': PosixPath('../movielens/models'),\n",
      " 'movielens_recommender_model': <class 'recommender_models.ALS'>,\n",
      " 'movielens_topk_movies': 2500,\n",
      " 'movielens_topk_users': 2000,\n",
      " 'parallel': False,\n",
      " 'random_state': <SeedSequence>:42,\n",
      " 'recommender_dirs': {'lastfm': PosixPath('../lastfm/models'),\n",
      "                      'movielens': PosixPath('../movielens/models')},\n",
      " 'recommender_evaluation_metric': 'ndcg',\n",
      " 'recommender_models': {'lastfm': <class 'recommender_models.ALS'>,\n",
      "                        'movielens': <class 'recommender_models.ALS'>},\n",
      " 'seed': 42,\n",
      " 'temperature': 0.2,\n",
      " 'train_size': 0.7,\n",
      " 'validation_size': 0.1}\n"
     ]
    }
   ],
   "source": [
    "conf = config.Configuration(\n",
    "    datasets=[\"lastfm\", \"movielens\"],\n",
    "    # datasets=[\"lastfm\"],\n",
    "    lastfm_ground_truth_file=config.LASTFM_RECOMMENDER_DIR / \"model_ground_truth.npz\",\n",
    "    lastfm_recommender_dir=config.LASTFM_RECOMMENDER_DIR,\n",
    "    movielens_ground_truth_file=config.MOVIELENS_RECOMMENDER_DIR\n",
    "    / \"model_ground_truth.npz\",\n",
    "    movielens_recommender_dir=config.MOVIELENS_RECOMMENDER_DIR,\n",
    "    lastfm_ground_truth_model=\"ALS\",\n",
    "    movielens_ground_truth_model=\"ALS\",\n",
    "    lastfm_recommender_model=\"ALS\",\n",
    "    movielens_recommender_model=\"ALS\",\n",
    "    temperature = 1/5\n",
    ")\n",
    "pprint.pprint(dataclasses.asdict(conf))"
   ]
  },
  {
   "cell_type": "code",
   "execution_count": null,
   "id": "b602d76c-b386-451e-befb-62da988de5fc",
   "metadata": {},
   "outputs": [],
   "source": [
    "metrics = sources_of_envy.envy_from_misspecification(conf)"
   ]
  },
  {
   "cell_type": "code",
   "execution_count": null,
   "id": "8a87a2f5-74fb-4561-9d38-ed17fb1d2186",
   "metadata": {},
   "outputs": [
    {
     "data": {
      "text/html": [
       "<div>\n",
       "<style scoped>\n",
       "    .dataframe tbody tr th:only-of-type {\n",
       "        vertical-align: middle;\n",
       "    }\n",
       "\n",
       "    .dataframe tbody tr th {\n",
       "        vertical-align: top;\n",
       "    }\n",
       "\n",
       "    .dataframe thead th {\n",
       "        text-align: right;\n",
       "    }\n",
       "</style>\n",
       "<table border=\"1\" class=\"dataframe\">\n",
       "  <thead>\n",
       "    <tr style=\"text-align: right;\">\n",
       "      <th></th>\n",
       "      <th>mean_envy</th>\n",
       "      <th>prop_eps_envy</th>\n",
       "      <th>dataset</th>\n",
       "    </tr>\n",
       "  </thead>\n",
       "  <tbody>\n",
       "    <tr>\n",
       "      <th>64</th>\n",
       "      <td>0.004817</td>\n",
       "      <td>0.009514</td>\n",
       "      <td>lastfm</td>\n",
       "    </tr>\n",
       "    <tr>\n",
       "      <th>256</th>\n",
       "      <td>0.010771</td>\n",
       "      <td>0.058668</td>\n",
       "      <td>lastfm</td>\n",
       "    </tr>\n",
       "    <tr>\n",
       "      <th>4</th>\n",
       "      <td>0.012304</td>\n",
       "      <td>0.003171</td>\n",
       "      <td>lastfm</td>\n",
       "    </tr>\n",
       "    <tr>\n",
       "      <th>8</th>\n",
       "      <td>0.011532</td>\n",
       "      <td>0.001586</td>\n",
       "      <td>lastfm</td>\n",
       "    </tr>\n",
       "    <tr>\n",
       "      <th>128</th>\n",
       "      <td>0.003560</td>\n",
       "      <td>0.012156</td>\n",
       "      <td>lastfm</td>\n",
       "    </tr>\n",
       "    <tr>\n",
       "      <th>32</th>\n",
       "      <td>0.003798</td>\n",
       "      <td>0.001057</td>\n",
       "      <td>lastfm</td>\n",
       "    </tr>\n",
       "    <tr>\n",
       "      <th>2</th>\n",
       "      <td>0.009717</td>\n",
       "      <td>0.001057</td>\n",
       "      <td>lastfm</td>\n",
       "    </tr>\n",
       "    <tr>\n",
       "      <th>1</th>\n",
       "      <td>0.011642</td>\n",
       "      <td>0.000000</td>\n",
       "      <td>lastfm</td>\n",
       "    </tr>\n",
       "    <tr>\n",
       "      <th>16</th>\n",
       "      <td>0.006858</td>\n",
       "      <td>0.003171</td>\n",
       "      <td>lastfm</td>\n",
       "    </tr>\n",
       "    <tr>\n",
       "      <th>64</th>\n",
       "      <td>0.031107</td>\n",
       "      <td>0.254000</td>\n",
       "      <td>movielens</td>\n",
       "    </tr>\n",
       "    <tr>\n",
       "      <th>256</th>\n",
       "      <td>0.028402</td>\n",
       "      <td>0.227000</td>\n",
       "      <td>movielens</td>\n",
       "    </tr>\n",
       "    <tr>\n",
       "      <th>4</th>\n",
       "      <td>0.034679</td>\n",
       "      <td>0.037000</td>\n",
       "      <td>movielens</td>\n",
       "    </tr>\n",
       "    <tr>\n",
       "      <th>8</th>\n",
       "      <td>0.556292</td>\n",
       "      <td>0.998000</td>\n",
       "      <td>movielens</td>\n",
       "    </tr>\n",
       "    <tr>\n",
       "      <th>128</th>\n",
       "      <td>0.035740</td>\n",
       "      <td>0.300500</td>\n",
       "      <td>movielens</td>\n",
       "    </tr>\n",
       "    <tr>\n",
       "      <th>32</th>\n",
       "      <td>0.029679</td>\n",
       "      <td>0.239500</td>\n",
       "      <td>movielens</td>\n",
       "    </tr>\n",
       "    <tr>\n",
       "      <th>2</th>\n",
       "      <td>0.021273</td>\n",
       "      <td>0.000000</td>\n",
       "      <td>movielens</td>\n",
       "    </tr>\n",
       "    <tr>\n",
       "      <th>1</th>\n",
       "      <td>0.097188</td>\n",
       "      <td>0.939000</td>\n",
       "      <td>movielens</td>\n",
       "    </tr>\n",
       "    <tr>\n",
       "      <th>16</th>\n",
       "      <td>0.564316</td>\n",
       "      <td>0.999500</td>\n",
       "      <td>movielens</td>\n",
       "    </tr>\n",
       "  </tbody>\n",
       "</table>\n",
       "</div>"
      ],
      "text/plain": [
       "     mean_envy  prop_eps_envy    dataset\n",
       "64    0.004817       0.009514     lastfm\n",
       "256   0.010771       0.058668     lastfm\n",
       "4     0.012304       0.003171     lastfm\n",
       "8     0.011532       0.001586     lastfm\n",
       "128   0.003560       0.012156     lastfm\n",
       "32    0.003798       0.001057     lastfm\n",
       "2     0.009717       0.001057     lastfm\n",
       "1     0.011642       0.000000     lastfm\n",
       "16    0.006858       0.003171     lastfm\n",
       "64    0.031107       0.254000  movielens\n",
       "256   0.028402       0.227000  movielens\n",
       "4     0.034679       0.037000  movielens\n",
       "8     0.556292       0.998000  movielens\n",
       "128   0.035740       0.300500  movielens\n",
       "32    0.029679       0.239500  movielens\n",
       "2     0.021273       0.000000  movielens\n",
       "1     0.097188       0.939000  movielens\n",
       "16    0.564316       0.999500  movielens"
      ]
     },
     "execution_count": null,
     "metadata": {},
     "output_type": "execute_result"
    }
   ],
   "source": [
    "df = pd.concat(\n",
    "    [pd.DataFrame(vals).assign(dataset=dataset) for dataset, vals in metrics.items()]\n",
    ")\n",
    "df"
   ]
  },
  {
   "cell_type": "code",
   "execution_count": null,
   "id": "ea4cb268-e88f-414c-8022-6acb778f50be",
   "metadata": {},
   "outputs": [
    {
     "data": {
      "image/png": "[encoded data removed]",
      "text/plain": [
       "<Figure size 1000x500 with 2 Axes>"
      ]
     },
     "metadata": {},
     "output_type": "display_data"
    }
   ],
   "source": [
    "fig, axes = plt.subplots(1, 2, figsize=(10, 5))\n",
    "\n",
    "# df = df[df[\"dataset\"] == \"lastfm\"]\n",
    "# sns.pointplot(data=df, x=df.index, y=\"mean_envy\", hue=\"dataset\", linestyles=[\"-\", \"--\"], ax=axes[0])\n",
    "sns.lineplot(data=df, x=df.index, y=\"mean_envy\", hue=\"dataset\", ax=axes[0])\n",
    "axes[0].set_xlim(-5, 120)\n",
    "# sns.pointplot(data=df, x=df.index, y=\"prop_eps_envy\", hue=\"dataset\", linestyles=[\"-\", \"--\"], ax=axes[1])\n",
    "sns.lineplot(data=df, x=df.index, y=\"prop_eps_envy\", hue=\"dataset\", ax=axes[1])\n",
    "axes[1].set_xlim(-5, 120)\n",
    "plt.tight_layout()"
   ]
  }
 ],
 "metadata": {
  "kernelspec": {
   "display_name": "Python 3",
   "language": "python",
   "name": "python3"
  },
  "language_info": {
   "name": "python",
   "version": "3.8.0 (tags/v3.8.0:fa919fd, Oct 14 2019, 19:37:50) [MSC v.1916 64 bit (AMD64)]"
  },
  "vscode": {
   "interpreter": {
    "hash": "5dd76241fa2ee905525e0a1efacb16294be0e14843e7f10299cba718b3e5fb2a"
   }
  }
 },
 "nbformat": 4,
 "nbformat_minor": 5
}
