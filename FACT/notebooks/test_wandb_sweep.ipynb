{
 "cells": [
  {
   "cell_type": "code",
   "execution_count": null,
   "id": "4e5a4177-99db-486d-8e09-5bb87ba3fae6",
   "metadata": {},
   "outputs": [
    {
     "name": "stdout",
     "output_type": "stream",
     "text": [
      "/home/xqz-u/FACT/src\n"
     ]
    },
    {
     "data": {
      "text/plain": [
       "'/home/xqz-u/FACT/src'"
      ]
     },
     "execution_count": null,
     "metadata": {},
     "output_type": "execute_result"
    }
   ],
   "source": [
    "import os\n",
    "\n",
    "if not os.getcwd().endswith(\"src\"):\n",
    "    %cd ..\n",
    "%pwd"
   ]
  },
  {
   "cell_type": "code",
   "execution_count": null,
   "id": "51bde5ef-c1d0-458c-8049-4c8e1fbf72a9",
   "metadata": {},
   "outputs": [
    {
     "name": "stderr",
     "output_type": "stream",
     "text": [
      "p19368 [23-01-19 12:24] [INFO]  Implicit using GPU: True  (__main__:21)\n"
     ]
    }
   ],
   "source": [
    "import functools as ft\n",
    "import itertools as it\n",
    "import logging\n",
    "import pprint\n",
    "from copy import deepcopy\n",
    "from typing import Dict, Sequence, Tuple\n",
    "\n",
    "import implicit\n",
    "import numpy as np\n",
    "from implicit import evaluation\n",
    "from scipy import sparse\n",
    "import wandb\n",
    "\n",
    "import config\n",
    "import constants\n",
    "import datasets\n",
    "import utils\n",
    "\n",
    "logger = logging.getLogger(__name__)\n",
    "utils.setup_root_logging()\n",
    "logger.info(\"Implicit using GPU: %s\", implicit.gpu.HAS_CUDA)"
   ]
  },
  {
   "cell_type": "code",
   "execution_count": null,
   "id": "c48e15bd-3a0c-495a-a31b-0cb513f9bde7",
   "metadata": {},
   "outputs": [
    {
     "name": "stdout",
     "output_type": "stream",
     "text": [
      "{'method': 'grid',\n",
      " 'metric': {'goal': 'maximize', 'name': 'auc'},\n",
      " 'name': 'sweep_lastfm_ground_truth_auc',\n",
      " 'parameters': {'alpha': {'values': [0.1, 1, 10, 100]},\n",
      "                'factors': {'values': [16, 32, 64, 128]},\n",
      "                'regularization': {'values': [0.01, 0.1, 1, 10]}}}\n"
     ]
    }
   ],
   "source": [
    "# metric = \"map\"\n",
    "# metric = \"ndcg\"\n",
    "# metric = \"precision\"\n",
    "metric = \"auc\"\n",
    "\n",
    "# Define sweep config\n",
    "sweep_configuration = {\n",
    "    'method': 'grid',\n",
    "    'name': f'sweep_lastfm_ground_truth_{metric}',\n",
    "    'metric': {'goal': 'maximize', 'name': metric},\n",
    "    'parameters': {k: {\"values\": v} for k, v in constants.ground_truth_hparams.items()}\n",
    "}\n",
    "pprint.pprint(sweep_configuration)"
   ]
  },
  {
   "cell_type": "code",
   "execution_count": null,
   "id": "0b520d51-65ed-4f58-b16d-0add1e6c5e20",
   "metadata": {},
   "outputs": [],
   "source": [
    "def recommender_grid_search(\n",
    "    train_mat: sparse.csr_matrix,\n",
    "    valid_mat: sparse.csr_matrix,\n",
    "    metric: str\n",
    ") -> implicit.als.AlternatingLeastSquares:\n",
    "    \n",
    "    run = wandb.init(dir=config.WANDB_DIR)\n",
    "    hparams = wandb.config\n",
    "    \n",
    "    logger.info(\"Metric: %s, hyperparameters:\", metric)\n",
    "    logger.info(pprint.pformat(hparams))\n",
    "\n",
    "    model = implicit.als.AlternatingLeastSquares(**hparams)\n",
    "    model.fit(train_mat)\n",
    "    metrics = evaluation.ranking_metrics_at_k(model, train_mat, valid_mat)\n",
    "    score = metrics[metric]\n",
    "    wandb.log({**hparams, metric: score})\n",
    "\n",
    "    # TODO save model! either in wandb or locally\n",
    "    \n",
    "    \n",
    "def split_csr(mat_csr: sparse.csr_matrix, seed: int) -> Tuple[sparse.csr_matrix, ...]:\n",
    "    # split into 0.7 train 0.2 val 0.1 test\n",
    "    train_csr, tmp_csr = implicit.evaluation.train_test_split(\n",
    "        mat_csr, train_percentage=0.7, random_state=seed\n",
    "    )\n",
    "    valid_csr, test_csr = implicit.evaluation.train_test_split(\n",
    "        tmp_csr, train_percentage=2 / 3, random_state=seed\n",
    "    )\n",
    "    return train_csr, valid_csr, test_csr"
   ]
  },
  {
   "cell_type": "code",
   "execution_count": null,
   "id": "3a4b0248-e0c2-41b3-95ed-84ad1c684e73",
   "metadata": {},
   "outputs": [
    {
     "name": "stderr",
     "output_type": "stream",
     "text": [
      "p19368 [23-01-19 12:24] [INFO]  ../data/Lastfm already exists, abort download  (datasets:18)\n"
     ]
    },
    {
     "data": {
      "text/html": [
       "<div>\n",
       "<style scoped>\n",
       "    .dataframe tbody tr th:only-of-type {\n",
       "        vertical-align: middle;\n",
       "    }\n",
       "\n",
       "    .dataframe tbody tr th {\n",
       "        vertical-align: top;\n",
       "    }\n",
       "\n",
       "    .dataframe thead th {\n",
       "        text-align: right;\n",
       "    }\n",
       "</style>\n",
       "<table border=\"1\" class=\"dataframe\">\n",
       "  <thead>\n",
       "    <tr style=\"text-align: right;\">\n",
       "      <th>item</th>\n",
       "      <th>2</th>\n",
       "      <th>6</th>\n",
       "      <th>7</th>\n",
       "      <th>8</th>\n",
       "      <th>9</th>\n",
       "      <th>10</th>\n",
       "      <th>12</th>\n",
       "      <th>15</th>\n",
       "      <th>18</th>\n",
       "      <th>19</th>\n",
       "      <th>...</th>\n",
       "      <th>18125</th>\n",
       "      <th>18126</th>\n",
       "      <th>18127</th>\n",
       "      <th>18205</th>\n",
       "      <th>18206</th>\n",
       "      <th>18434</th>\n",
       "      <th>18435</th>\n",
       "      <th>18558</th>\n",
       "      <th>18559</th>\n",
       "      <th>18575</th>\n",
       "    </tr>\n",
       "    <tr>\n",
       "      <th>user</th>\n",
       "      <th></th>\n",
       "      <th></th>\n",
       "      <th></th>\n",
       "      <th></th>\n",
       "      <th></th>\n",
       "      <th></th>\n",
       "      <th></th>\n",
       "      <th></th>\n",
       "      <th></th>\n",
       "      <th></th>\n",
       "      <th></th>\n",
       "      <th></th>\n",
       "      <th></th>\n",
       "      <th></th>\n",
       "      <th></th>\n",
       "      <th></th>\n",
       "      <th></th>\n",
       "      <th></th>\n",
       "      <th></th>\n",
       "      <th></th>\n",
       "      <th></th>\n",
       "    </tr>\n",
       "  </thead>\n",
       "  <tbody>\n",
       "    <tr>\n",
       "      <th>2</th>\n",
       "      <td>0.0</td>\n",
       "      <td>0.0</td>\n",
       "      <td>0.0</td>\n",
       "      <td>0.0</td>\n",
       "      <td>0.0</td>\n",
       "      <td>0.0</td>\n",
       "      <td>0.0</td>\n",
       "      <td>0.0</td>\n",
       "      <td>0.0</td>\n",
       "      <td>0.0</td>\n",
       "      <td>...</td>\n",
       "      <td>0.0</td>\n",
       "      <td>0.0</td>\n",
       "      <td>0.0</td>\n",
       "      <td>0.0</td>\n",
       "      <td>0.0</td>\n",
       "      <td>0.0</td>\n",
       "      <td>0.0</td>\n",
       "      <td>0.0</td>\n",
       "      <td>0.0</td>\n",
       "      <td>0.0</td>\n",
       "    </tr>\n",
       "    <tr>\n",
       "      <th>3</th>\n",
       "      <td>0.0</td>\n",
       "      <td>0.0</td>\n",
       "      <td>0.0</td>\n",
       "      <td>0.0</td>\n",
       "      <td>0.0</td>\n",
       "      <td>0.0</td>\n",
       "      <td>0.0</td>\n",
       "      <td>0.0</td>\n",
       "      <td>0.0</td>\n",
       "      <td>0.0</td>\n",
       "      <td>...</td>\n",
       "      <td>0.0</td>\n",
       "      <td>0.0</td>\n",
       "      <td>0.0</td>\n",
       "      <td>0.0</td>\n",
       "      <td>0.0</td>\n",
       "      <td>0.0</td>\n",
       "      <td>0.0</td>\n",
       "      <td>0.0</td>\n",
       "      <td>0.0</td>\n",
       "      <td>0.0</td>\n",
       "    </tr>\n",
       "    <tr>\n",
       "      <th>4</th>\n",
       "      <td>0.0</td>\n",
       "      <td>0.0</td>\n",
       "      <td>0.0</td>\n",
       "      <td>0.0</td>\n",
       "      <td>0.0</td>\n",
       "      <td>0.0</td>\n",
       "      <td>0.0</td>\n",
       "      <td>0.0</td>\n",
       "      <td>0.0</td>\n",
       "      <td>0.0</td>\n",
       "      <td>...</td>\n",
       "      <td>0.0</td>\n",
       "      <td>0.0</td>\n",
       "      <td>0.0</td>\n",
       "      <td>0.0</td>\n",
       "      <td>0.0</td>\n",
       "      <td>0.0</td>\n",
       "      <td>0.0</td>\n",
       "      <td>0.0</td>\n",
       "      <td>0.0</td>\n",
       "      <td>0.0</td>\n",
       "    </tr>\n",
       "    <tr>\n",
       "      <th>5</th>\n",
       "      <td>0.0</td>\n",
       "      <td>0.0</td>\n",
       "      <td>0.0</td>\n",
       "      <td>0.0</td>\n",
       "      <td>0.0</td>\n",
       "      <td>0.0</td>\n",
       "      <td>0.0</td>\n",
       "      <td>0.0</td>\n",
       "      <td>0.0</td>\n",
       "      <td>0.0</td>\n",
       "      <td>...</td>\n",
       "      <td>0.0</td>\n",
       "      <td>0.0</td>\n",
       "      <td>0.0</td>\n",
       "      <td>0.0</td>\n",
       "      <td>0.0</td>\n",
       "      <td>0.0</td>\n",
       "      <td>0.0</td>\n",
       "      <td>0.0</td>\n",
       "      <td>0.0</td>\n",
       "      <td>0.0</td>\n",
       "    </tr>\n",
       "    <tr>\n",
       "      <th>6</th>\n",
       "      <td>0.0</td>\n",
       "      <td>0.0</td>\n",
       "      <td>0.0</td>\n",
       "      <td>0.0</td>\n",
       "      <td>0.0</td>\n",
       "      <td>0.0</td>\n",
       "      <td>0.0</td>\n",
       "      <td>0.0</td>\n",
       "      <td>0.0</td>\n",
       "      <td>0.0</td>\n",
       "      <td>...</td>\n",
       "      <td>0.0</td>\n",
       "      <td>0.0</td>\n",
       "      <td>0.0</td>\n",
       "      <td>0.0</td>\n",
       "      <td>0.0</td>\n",
       "      <td>0.0</td>\n",
       "      <td>0.0</td>\n",
       "      <td>0.0</td>\n",
       "      <td>0.0</td>\n",
       "      <td>0.0</td>\n",
       "    </tr>\n",
       "  </tbody>\n",
       "</table>\n",
       "<p>5 rows × 2500 columns</p>\n",
       "</div>"
      ],
      "text/plain": [
       "item  2      6      7      8      9      10     12     15     18     19     \\\n",
       "user                                                                         \n",
       "2       0.0    0.0    0.0    0.0    0.0    0.0    0.0    0.0    0.0    0.0   \n",
       "3       0.0    0.0    0.0    0.0    0.0    0.0    0.0    0.0    0.0    0.0   \n",
       "4       0.0    0.0    0.0    0.0    0.0    0.0    0.0    0.0    0.0    0.0   \n",
       "5       0.0    0.0    0.0    0.0    0.0    0.0    0.0    0.0    0.0    0.0   \n",
       "6       0.0    0.0    0.0    0.0    0.0    0.0    0.0    0.0    0.0    0.0   \n",
       "\n",
       "item  ...  18125  18126  18127  18205  18206  18434  18435  18558  18559  \\\n",
       "user  ...                                                                  \n",
       "2     ...    0.0    0.0    0.0    0.0    0.0    0.0    0.0    0.0    0.0   \n",
       "3     ...    0.0    0.0    0.0    0.0    0.0    0.0    0.0    0.0    0.0   \n",
       "4     ...    0.0    0.0    0.0    0.0    0.0    0.0    0.0    0.0    0.0   \n",
       "5     ...    0.0    0.0    0.0    0.0    0.0    0.0    0.0    0.0    0.0   \n",
       "6     ...    0.0    0.0    0.0    0.0    0.0    0.0    0.0    0.0    0.0   \n",
       "\n",
       "item  18575  \n",
       "user         \n",
       "2       0.0  \n",
       "3       0.0  \n",
       "4       0.0  \n",
       "5       0.0  \n",
       "6       0.0  \n",
       "\n",
       "[5 rows x 2500 columns]"
      ]
     },
     "execution_count": null,
     "metadata": {},
     "output_type": "execute_result"
    }
   ],
   "source": [
    "lastfm = datasets.get_lastfm()\n",
    "lastfm.head()"
   ]
  },
  {
   "cell_type": "code",
   "execution_count": null,
   "id": "a1678fe9-dc41-4309-94f6-29d0051c3393",
   "metadata": {},
   "outputs": [
    {
     "data": {
      "text/plain": [
       "(<1892x2500 sparse matrix of type '<class 'numpy.float64'>'\n",
       " \twith 47004 stored elements in Compressed Sparse Row format>,\n",
       " <1892x2500 sparse matrix of type '<class 'numpy.float64'>'\n",
       " \twith 13362 stored elements in Compressed Sparse Row format>)"
      ]
     },
     "execution_count": null,
     "metadata": {},
     "output_type": "execute_result"
    }
   ],
   "source": [
    "lastfm_csr = sparse.csr_matrix(lastfm.values)\n",
    "gt_train_csr, gt_valid_csr, _ = split_csr(lastfm_csr, constants.SEED)\n",
    "gt_train_csr, gt_valid_csr"
   ]
  },
  {
   "cell_type": "code",
   "execution_count": null,
   "id": "63ffcd17-4bdf-48f1-b17a-71646b517493",
   "metadata": {},
   "outputs": [
    {
     "name": "stderr",
     "output_type": "stream",
     "text": [
      "p19368 [23-01-19 12:24] [ERROR]  Failed to detect the name of this notebook, you can set it manually with the WANDB_NOTEBOOK_NAME environment variable to enable code saving.  (wandb.jupyter:232)\n"
     ]
    },
    {
     "name": "stdout",
     "output_type": "stream",
     "text": [
      "Create sweep with ID: pngs1wi5\n",
      "Sweep URL: https://wandb.ai/fact-ai/recommender/sweeps/pngs1wi5\n"
     ]
    },
    {
     "data": {
      "text/plain": [
       "'pngs1wi5'"
      ]
     },
     "execution_count": null,
     "metadata": {},
     "output_type": "execute_result"
    }
   ],
   "source": [
    "# Initialize sweep by passing in config. (Optional) Provide a name of the project.\n",
    "sweep_id = wandb.sweep(sweep=sweep_configuration, project='recommender', entity=\"fact-ai\")\n",
    "sweep_id"
   ]
  },
  {
   "cell_type": "code",
   "execution_count": null,
   "id": "aa164c61-c072-435a-981b-65a1a5fe59b0",
   "metadata": {},
   "outputs": [
    {
     "name": "stderr",
     "output_type": "stream",
     "text": [
      "p19368 [23-01-19 12:24] [INFO]  Starting sweep agent: entity=None, project=None, count=None  (wandb.agents.pyagent:314)\n",
      "\u001b[34m\u001b[1mwandb\u001b[0m: Agent Starting Run: q92foirq with config:\n",
      "\u001b[34m\u001b[1mwandb\u001b[0m: \talpha: 0.1\n",
      "\u001b[34m\u001b[1mwandb\u001b[0m: \tfactors: 16\n",
      "\u001b[34m\u001b[1mwandb\u001b[0m: \tregularization: 0.01\n",
      "p19368 [23-01-19 12:24] [ERROR]  Failed to detect the name of this notebook, you can set it manually with the WANDB_NOTEBOOK_NAME environment variable to enable code saving.  (wandb.jupyter:232)\n",
      "\u001b[34m\u001b[1mwandb\u001b[0m: Currently logged in as: \u001b[33mxqz-u\u001b[0m (\u001b[33mfact-ai\u001b[0m). Use \u001b[1m`wandb login --relogin`\u001b[0m to force relogin\n"
     ]
    },
    {
     "data": {
      "text/html": [
       "Tracking run with wandb version 0.13.9"
      ],
      "text/plain": [
       "<IPython.core.display.HTML object>"
      ]
     },
     "metadata": {},
     "output_type": "display_data"
    },
    {
     "data": {
      "text/html": [
       "Run data is saved locally in <code>../wandb/run-20230119_122429-q92foirq</code>"
      ],
      "text/plain": [
       "<IPython.core.display.HTML object>"
      ]
     },
     "metadata": {},
     "output_type": "display_data"
    },
    {
     "data": {
      "text/html": [
       "Syncing run <strong><a href=\"https://wandb.ai/fact-ai/recommender/runs/q92foirq\" target=\"_blank\">wild-sweep-1</a></strong> to <a href=\"https://wandb.ai/fact-ai/recommender\" target=\"_blank\">Weights & Biases</a> (<a href=\"https://wandb.me/run\" target=\"_blank\">docs</a>)<br/>Sweep page: <a href=\"https://wandb.ai/fact-ai/recommender/sweeps/pngs1wi5\" target=\"_blank\">https://wandb.ai/fact-ai/recommender/sweeps/pngs1wi5</a>"
      ],
      "text/plain": [
       "<IPython.core.display.HTML object>"
      ]
     },
     "metadata": {},
     "output_type": "display_data"
    },
    {
     "data": {
      "text/html": [
       " View project at <a href=\"https://wandb.ai/fact-ai/recommender\" target=\"_blank\">https://wandb.ai/fact-ai/recommender</a>"
      ],
      "text/plain": [
       "<IPython.core.display.HTML object>"
      ]
     },
     "metadata": {},
     "output_type": "display_data"
    },
    {
     "data": {
      "text/html": [
       " View sweep at <a href=\"https://wandb.ai/fact-ai/recommender/sweeps/pngs1wi5\" target=\"_blank\">https://wandb.ai/fact-ai/recommender/sweeps/pngs1wi5</a>"
      ],
      "text/plain": [
       "<IPython.core.display.HTML object>"
      ]
     },
     "metadata": {},
     "output_type": "display_data"
    },
    {
     "data": {
      "text/html": [
       " View run at <a href=\"https://wandb.ai/fact-ai/recommender/runs/q92foirq\" target=\"_blank\">https://wandb.ai/fact-ai/recommender/runs/q92foirq</a>"
      ],
      "text/plain": [
       "<IPython.core.display.HTML object>"
      ]
     },
     "metadata": {},
     "output_type": "display_data"
    },
    {
     "name": "stderr",
     "output_type": "stream",
     "text": [
      "p19368 [23-01-19 12:24] [INFO]  Metric: auc, hyperparameters:  (__main__:10)\n",
      "p19368 [23-01-19 12:24] [INFO]  {'alpha': 0.1, 'factors': 16, 'regularization': 0.01}  (__main__:11)\n"
     ]
    },
    {
     "data": {
      "application/vnd.jupyter.widget-view+json": {
       "model_id": "b50c04b4ef3041538098d2fd9d1d1941",
       "version_major": 2,
       "version_minor": 0
      },
      "text/plain": [
       "  0%|          | 0/15 [00:00<?, ?it/s]"
      ]
     },
     "metadata": {},
     "output_type": "display_data"
    },
    {
     "data": {
      "application/vnd.jupyter.widget-view+json": {
       "model_id": "a6edc16419154970908acedd9f6ac67d",
       "version_major": 2,
       "version_minor": 0
      },
      "text/plain": [
       "  0%|          | 0/1839 [00:00<?, ?it/s]"
      ]
     },
     "metadata": {},
     "output_type": "display_data"
    },
    {
     "data": {
      "text/html": [
       "Waiting for W&B process to finish... <strong style=\"color:green\">(success).</strong>"
      ],
      "text/plain": [
       "<IPython.core.display.HTML object>"
      ]
     },
     "metadata": {},
     "output_type": "display_data"
    },
    {
     "data": {
      "application/vnd.jupyter.widget-view+json": {
       "model_id": "7cb16366e52c4a629c568d3d43887d67",
       "version_major": 2,
       "version_minor": 0
      },
      "text/plain": [
       "VBox(children=(Label(value='0.001 MB of 0.001 MB uploaded (0.000 MB deduped)\\r'), FloatProgress(value=1.0, max…"
      ]
     },
     "metadata": {},
     "output_type": "display_data"
    },
    {
     "data": {
      "text/html": [
       "<style>\n",
       "    table.wandb td:nth-child(1) { padding: 0 10px; text-align: left ; width: auto;} td:nth-child(2) {text-align: left ; width: 100%}\n",
       "    .wandb-row { display: flex; flex-direction: row; flex-wrap: wrap; justify-content: flex-start; width: 100% }\n",
       "    .wandb-col { display: flex; flex-direction: column; flex-basis: 100%; flex: 1; padding: 10px; }\n",
       "    </style>\n",
       "<div class=\"wandb-row\"><div class=\"wandb-col\"><h3>Run history:</h3><br/><table class=\"wandb\"><tr><td>alpha</td><td>▁</td></tr><tr><td>auc</td><td>▁</td></tr><tr><td>factors</td><td>▁</td></tr><tr><td>regularization</td><td>▁</td></tr></table><br/></div><div class=\"wandb-col\"><h3>Run summary:</h3><br/><table class=\"wandb\"><tr><td>alpha</td><td>0.1</td></tr><tr><td>auc</td><td>0.60874</td></tr><tr><td>factors</td><td>16</td></tr><tr><td>regularization</td><td>0.01</td></tr></table><br/></div></div>"
      ],
      "text/plain": [
       "<IPython.core.display.HTML object>"
      ]
     },
     "metadata": {},
     "output_type": "display_data"
    },
    {
     "data": {
      "text/html": [
       " View run <strong style=\"color:#cdcd00\">wild-sweep-1</strong> at: <a href=\"https://wandb.ai/fact-ai/recommender/runs/q92foirq\" target=\"_blank\">https://wandb.ai/fact-ai/recommender/runs/q92foirq</a><br/>Synced 6 W&B file(s), 0 media file(s), 0 artifact file(s) and 0 other file(s)"
      ],
      "text/plain": [
       "<IPython.core.display.HTML object>"
      ]
     },
     "metadata": {},
     "output_type": "display_data"
    },
    {
     "data": {
      "text/html": [
       "Find logs at: <code>../wandb/run-20230119_122429-q92foirq/logs</code>"
      ],
      "text/plain": [
       "<IPython.core.display.HTML object>"
      ]
     },
     "metadata": {},
     "output_type": "display_data"
    },
    {
     "name": "stderr",
     "output_type": "stream",
     "text": [
      "\u001b[34m\u001b[1mwandb\u001b[0m: Agent Starting Run: 6nv4mob6 with config:\n",
      "\u001b[34m\u001b[1mwandb\u001b[0m: \talpha: 0.1\n",
      "\u001b[34m\u001b[1mwandb\u001b[0m: \tfactors: 16\n",
      "\u001b[34m\u001b[1mwandb\u001b[0m: \tregularization: 0.1\n",
      "Failed to detect the name of this notebook, you can set it manually with the WANDB_NOTEBOOK_NAME environment variable to enable code saving.\n"
     ]
    },
    {
     "data": {
      "text/html": [
       "Tracking run with wandb version 0.13.9"
      ],
      "text/plain": [
       "<IPython.core.display.HTML object>"
      ]
     },
     "metadata": {},
     "output_type": "display_data"
    },
    {
     "data": {
      "text/html": [
       "Run data is saved locally in <code>../wandb/run-20230119_122440-6nv4mob6</code>"
      ],
      "text/plain": [
       "<IPython.core.display.HTML object>"
      ]
     },
     "metadata": {},
     "output_type": "display_data"
    },
    {
     "data": {
      "text/html": [
       "Syncing run <strong><a href=\"https://wandb.ai/fact-ai/recommender/runs/6nv4mob6\" target=\"_blank\">noble-sweep-2</a></strong> to <a href=\"https://wandb.ai/fact-ai/recommender\" target=\"_blank\">Weights & Biases</a> (<a href=\"https://wandb.me/run\" target=\"_blank\">docs</a>)<br/>Sweep page: <a href=\"https://wandb.ai/fact-ai/recommender/sweeps/pngs1wi5\" target=\"_blank\">https://wandb.ai/fact-ai/recommender/sweeps/pngs1wi5</a>"
      ],
      "text/plain": [
       "<IPython.core.display.HTML object>"
      ]
     },
     "metadata": {},
     "output_type": "display_data"
    },
    {
     "data": {
      "text/html": [
       " View project at <a href=\"https://wandb.ai/fact-ai/recommender\" target=\"_blank\">https://wandb.ai/fact-ai/recommender</a>"
      ],
      "text/plain": [
       "<IPython.core.display.HTML object>"
      ]
     },
     "metadata": {},
     "output_type": "display_data"
    },
    {
     "data": {
      "text/html": [
       " View sweep at <a href=\"https://wandb.ai/fact-ai/recommender/sweeps/pngs1wi5\" target=\"_blank\">https://wandb.ai/fact-ai/recommender/sweeps/pngs1wi5</a>"
      ],
      "text/plain": [
       "<IPython.core.display.HTML object>"
      ]
     },
     "metadata": {},
     "output_type": "display_data"
    },
    {
     "data": {
      "text/html": [
       " View run at <a href=\"https://wandb.ai/fact-ai/recommender/runs/6nv4mob6\" target=\"_blank\">https://wandb.ai/fact-ai/recommender/runs/6nv4mob6</a>"
      ],
      "text/plain": [
       "<IPython.core.display.HTML object>"
      ]
     },
     "metadata": {},
     "output_type": "display_data"
    },
    {
     "name": "stderr",
     "output_type": "stream",
     "text": [
      "p19368 [23-01-19 12:24] [INFO]  Metric: auc, hyperparameters:  (__main__:10)\n",
      "p19368 [23-01-19 12:24] [INFO]  {'alpha': 0.1, 'factors': 16, 'regularization': 0.1}  (__main__:11)\n"
     ]
    },
    {
     "data": {
      "application/vnd.jupyter.widget-view+json": {
       "model_id": "6cfde017450949ce85786fcaa9bec45c",
       "version_major": 2,
       "version_minor": 0
      },
      "text/plain": [
       "  0%|          | 0/15 [00:00<?, ?it/s]"
      ]
     },
     "metadata": {},
     "output_type": "display_data"
    },
    {
     "data": {
      "application/vnd.jupyter.widget-view+json": {
       "model_id": "9a3356f0049745868497af42f80bcd3d",
       "version_major": 2,
       "version_minor": 0
      },
      "text/plain": [
       "  0%|          | 0/1839 [00:00<?, ?it/s]"
      ]
     },
     "metadata": {},
     "output_type": "display_data"
    },
    {
     "data": {
      "text/html": [
       "Waiting for W&B process to finish... <strong style=\"color:green\">(success).</strong>"
      ],
      "text/plain": [
       "<IPython.core.display.HTML object>"
      ]
     },
     "metadata": {},
     "output_type": "display_data"
    },
    {
     "data": {
      "application/vnd.jupyter.widget-view+json": {
       "model_id": "58be11dafeac41e0b1a5cd28d75fc5fc",
       "version_major": 2,
       "version_minor": 0
      },
      "text/plain": [
       "VBox(children=(Label(value='0.001 MB of 0.001 MB uploaded (0.000 MB deduped)\\r'), FloatProgress(value=1.0, max…"
      ]
     },
     "metadata": {},
     "output_type": "display_data"
    },
    {
     "data": {
      "text/html": [
       "<style>\n",
       "    table.wandb td:nth-child(1) { padding: 0 10px; text-align: left ; width: auto;} td:nth-child(2) {text-align: left ; width: 100%}\n",
       "    .wandb-row { display: flex; flex-direction: row; flex-wrap: wrap; justify-content: flex-start; width: 100% }\n",
       "    .wandb-col { display: flex; flex-direction: column; flex-basis: 100%; flex: 1; padding: 10px; }\n",
       "    </style>\n",
       "<div class=\"wandb-row\"><div class=\"wandb-col\"><h3>Run history:</h3><br/><table class=\"wandb\"><tr><td>alpha</td><td>▁</td></tr><tr><td>auc</td><td>▁</td></tr><tr><td>factors</td><td>▁</td></tr><tr><td>regularization</td><td>▁</td></tr></table><br/></div><div class=\"wandb-col\"><h3>Run summary:</h3><br/><table class=\"wandb\"><tr><td>alpha</td><td>0.1</td></tr><tr><td>auc</td><td>0.60746</td></tr><tr><td>factors</td><td>16</td></tr><tr><td>regularization</td><td>0.1</td></tr></table><br/></div></div>"
      ],
      "text/plain": [
       "<IPython.core.display.HTML object>"
      ]
     },
     "metadata": {},
     "output_type": "display_data"
    },
    {
     "data": {
      "text/html": [
       " View run <strong style=\"color:#cdcd00\">noble-sweep-2</strong> at: <a href=\"https://wandb.ai/fact-ai/recommender/runs/6nv4mob6\" target=\"_blank\">https://wandb.ai/fact-ai/recommender/runs/6nv4mob6</a><br/>Synced 6 W&B file(s), 0 media file(s), 0 artifact file(s) and 0 other file(s)"
      ],
      "text/plain": [
       "<IPython.core.display.HTML object>"
      ]
     },
     "metadata": {},
     "output_type": "display_data"
    },
    {
     "data": {
      "text/html": [
       "Find logs at: <code>../wandb/run-20230119_122440-6nv4mob6/logs</code>"
      ],
      "text/plain": [
       "<IPython.core.display.HTML object>"
      ]
     },
     "metadata": {},
     "output_type": "display_data"
    },
    {
     "name": "stderr",
     "output_type": "stream",
     "text": [
      "\u001b[34m\u001b[1mwandb\u001b[0m: Agent Starting Run: 6rcmnvy2 with config:\n",
      "\u001b[34m\u001b[1mwandb\u001b[0m: \talpha: 0.1\n",
      "\u001b[34m\u001b[1mwandb\u001b[0m: \tfactors: 16\n",
      "\u001b[34m\u001b[1mwandb\u001b[0m: \tregularization: 1\n",
      "Failed to detect the name of this notebook, you can set it manually with the WANDB_NOTEBOOK_NAME environment variable to enable code saving.\n"
     ]
    },
    {
     "data": {
      "text/html": [
       "Tracking run with wandb version 0.13.9"
      ],
      "text/plain": [
       "<IPython.core.display.HTML object>"
      ]
     },
     "metadata": {},
     "output_type": "display_data"
    },
    {
     "data": {
      "text/html": [
       "Run data is saved locally in <code>../wandb/run-20230119_122450-6rcmnvy2</code>"
      ],
      "text/plain": [
       "<IPython.core.display.HTML object>"
      ]
     },
     "metadata": {},
     "output_type": "display_data"
    },
    {
     "data": {
      "text/html": [
       "Syncing run <strong><a href=\"https://wandb.ai/fact-ai/recommender/runs/6rcmnvy2\" target=\"_blank\">floral-sweep-3</a></strong> to <a href=\"https://wandb.ai/fact-ai/recommender\" target=\"_blank\">Weights & Biases</a> (<a href=\"https://wandb.me/run\" target=\"_blank\">docs</a>)<br/>Sweep page: <a href=\"https://wandb.ai/fact-ai/recommender/sweeps/pngs1wi5\" target=\"_blank\">https://wandb.ai/fact-ai/recommender/sweeps/pngs1wi5</a>"
      ],
      "text/plain": [
       "<IPython.core.display.HTML object>"
      ]
     },
     "metadata": {},
     "output_type": "display_data"
    },
    {
     "data": {
      "text/html": [
       " View project at <a href=\"https://wandb.ai/fact-ai/recommender\" target=\"_blank\">https://wandb.ai/fact-ai/recommender</a>"
      ],
      "text/plain": [
       "<IPython.core.display.HTML object>"
      ]
     },
     "metadata": {},
     "output_type": "display_data"
    },
    {
     "data": {
      "text/html": [
       " View sweep at <a href=\"https://wandb.ai/fact-ai/recommender/sweeps/pngs1wi5\" target=\"_blank\">https://wandb.ai/fact-ai/recommender/sweeps/pngs1wi5</a>"
      ],
      "text/plain": [
       "<IPython.core.display.HTML object>"
      ]
     },
     "metadata": {},
     "output_type": "display_data"
    },
    {
     "data": {
      "text/html": [
       " View run at <a href=\"https://wandb.ai/fact-ai/recommender/runs/6rcmnvy2\" target=\"_blank\">https://wandb.ai/fact-ai/recommender/runs/6rcmnvy2</a>"
      ],
      "text/plain": [
       "<IPython.core.display.HTML object>"
      ]
     },
     "metadata": {},
     "output_type": "display_data"
    },
    {
     "name": "stderr",
     "output_type": "stream",
     "text": [
      "p19368 [23-01-19 12:24] [INFO]  Metric: auc, hyperparameters:  (__main__:10)\n",
      "p19368 [23-01-19 12:24] [INFO]  {'alpha': 0.1, 'factors': 16, 'regularization': 1}  (__main__:11)\n"
     ]
    },
    {
     "data": {
      "application/vnd.jupyter.widget-view+json": {
       "model_id": "1f78ad4aa37b4046bb87182cef34b1a6",
       "version_major": 2,
       "version_minor": 0
      },
      "text/plain": [
       "  0%|          | 0/15 [00:00<?, ?it/s]"
      ]
     },
     "metadata": {},
     "output_type": "display_data"
    },
    {
     "data": {
      "application/vnd.jupyter.widget-view+json": {
       "model_id": "278008886a274865b0e1e6931db5a13c",
       "version_major": 2,
       "version_minor": 0
      },
      "text/plain": [
       "  0%|          | 0/1839 [00:00<?, ?it/s]"
      ]
     },
     "metadata": {},
     "output_type": "display_data"
    },
    {
     "data": {
      "text/html": [
       "Waiting for W&B process to finish... <strong style=\"color:green\">(success).</strong>"
      ],
      "text/plain": [
       "<IPython.core.display.HTML object>"
      ]
     },
     "metadata": {},
     "output_type": "display_data"
    },
    {
     "data": {
      "text/html": [
       "<style>\n",
       "    table.wandb td:nth-child(1) { padding: 0 10px; text-align: left ; width: auto;} td:nth-child(2) {text-align: left ; width: 100%}\n",
       "    .wandb-row { display: flex; flex-direction: row; flex-wrap: wrap; justify-content: flex-start; width: 100% }\n",
       "    .wandb-col { display: flex; flex-direction: column; flex-basis: 100%; flex: 1; padding: 10px; }\n",
       "    </style>\n",
       "<div class=\"wandb-row\"><div class=\"wandb-col\"><h3>Run history:</h3><br/><table class=\"wandb\"><tr><td>alpha</td><td>▁</td></tr><tr><td>auc</td><td>▁</td></tr><tr><td>factors</td><td>▁</td></tr><tr><td>regularization</td><td>▁</td></tr></table><br/></div><div class=\"wandb-col\"><h3>Run summary:</h3><br/><table class=\"wandb\"><tr><td>alpha</td><td>0.1</td></tr><tr><td>auc</td><td>0.60848</td></tr><tr><td>factors</td><td>16</td></tr><tr><td>regularization</td><td>1</td></tr></table><br/></div></div>"
      ],
      "text/plain": [
       "<IPython.core.display.HTML object>"
      ]
     },
     "metadata": {},
     "output_type": "display_data"
    },
    {
     "data": {
      "text/html": [
       " View run <strong style=\"color:#cdcd00\">floral-sweep-3</strong> at: <a href=\"https://wandb.ai/fact-ai/recommender/runs/6rcmnvy2\" target=\"_blank\">https://wandb.ai/fact-ai/recommender/runs/6rcmnvy2</a><br/>Synced 6 W&B file(s), 0 media file(s), 0 artifact file(s) and 0 other file(s)"
      ],
      "text/plain": [
       "<IPython.core.display.HTML object>"
      ]
     },
     "metadata": {},
     "output_type": "display_data"
    },
    {
     "data": {
      "text/html": [
       "Find logs at: <code>../wandb/run-20230119_122450-6rcmnvy2/logs</code>"
      ],
      "text/plain": [
       "<IPython.core.display.HTML object>"
      ]
     },
     "metadata": {},
     "output_type": "display_data"
    },
    {
     "name": "stderr",
     "output_type": "stream",
     "text": [
      "\u001b[34m\u001b[1mwandb\u001b[0m: Agent Starting Run: c3zfyf3g with config:\n",
      "\u001b[34m\u001b[1mwandb\u001b[0m: \talpha: 0.1\n",
      "\u001b[34m\u001b[1mwandb\u001b[0m: \tfactors: 16\n",
      "\u001b[34m\u001b[1mwandb\u001b[0m: \tregularization: 10\n",
      "Failed to detect the name of this notebook, you can set it manually with the WANDB_NOTEBOOK_NAME environment variable to enable code saving.\n"
     ]
    },
    {
     "data": {
      "text/html": [
       "Tracking run with wandb version 0.13.9"
      ],
      "text/plain": [
       "<IPython.core.display.HTML object>"
      ]
     },
     "metadata": {},
     "output_type": "display_data"
    },
    {
     "data": {
      "text/html": [
       "Run data is saved locally in <code>../wandb/run-20230119_122500-c3zfyf3g</code>"
      ],
      "text/plain": [
       "<IPython.core.display.HTML object>"
      ]
     },
     "metadata": {},
     "output_type": "display_data"
    },
    {
     "data": {
      "text/html": [
       "Syncing run <strong><a href=\"https://wandb.ai/fact-ai/recommender/runs/c3zfyf3g\" target=\"_blank\">swept-sweep-4</a></strong> to <a href=\"https://wandb.ai/fact-ai/recommender\" target=\"_blank\">Weights & Biases</a> (<a href=\"https://wandb.me/run\" target=\"_blank\">docs</a>)<br/>Sweep page: <a href=\"https://wandb.ai/fact-ai/recommender/sweeps/pngs1wi5\" target=\"_blank\">https://wandb.ai/fact-ai/recommender/sweeps/pngs1wi5</a>"
      ],
      "text/plain": [
       "<IPython.core.display.HTML object>"
      ]
     },
     "metadata": {},
     "output_type": "display_data"
    },
    {
     "data": {
      "text/html": [
       " View project at <a href=\"https://wandb.ai/fact-ai/recommender\" target=\"_blank\">https://wandb.ai/fact-ai/recommender</a>"
      ],
      "text/plain": [
       "<IPython.core.display.HTML object>"
      ]
     },
     "metadata": {},
     "output_type": "display_data"
    },
    {
     "data": {
      "text/html": [
       " View sweep at <a href=\"https://wandb.ai/fact-ai/recommender/sweeps/pngs1wi5\" target=\"_blank\">https://wandb.ai/fact-ai/recommender/sweeps/pngs1wi5</a>"
      ],
      "text/plain": [
       "<IPython.core.display.HTML object>"
      ]
     },
     "metadata": {},
     "output_type": "display_data"
    },
    {
     "data": {
      "text/html": [
       " View run at <a href=\"https://wandb.ai/fact-ai/recommender/runs/c3zfyf3g\" target=\"_blank\">https://wandb.ai/fact-ai/recommender/runs/c3zfyf3g</a>"
      ],
      "text/plain": [
       "<IPython.core.display.HTML object>"
      ]
     },
     "metadata": {},
     "output_type": "display_data"
    },
    {
     "name": "stderr",
     "output_type": "stream",
     "text": [
      "p19368 [23-01-19 12:25] [INFO]  Metric: auc, hyperparameters:  (__main__:10)\n",
      "p19368 [23-01-19 12:25] [INFO]  {'alpha': 0.1, 'factors': 16, 'regularization': 10}  (__main__:11)\n"
     ]
    },
    {
     "data": {
      "application/vnd.jupyter.widget-view+json": {
       "model_id": "a21b43dbbfb94adf8269718990c173a3",
       "version_major": 2,
       "version_minor": 0
      },
      "text/plain": [
       "  0%|          | 0/15 [00:00<?, ?it/s]"
      ]
     },
     "metadata": {},
     "output_type": "display_data"
    },
    {
     "data": {
      "application/vnd.jupyter.widget-view+json": {
       "model_id": "af7eced3d7a04eae8b4cda46a72d7300",
       "version_major": 2,
       "version_minor": 0
      },
      "text/plain": [
       "  0%|          | 0/1839 [00:00<?, ?it/s]"
      ]
     },
     "metadata": {},
     "output_type": "display_data"
    },
    {
     "data": {
      "text/html": [
       "Waiting for W&B process to finish... <strong style=\"color:green\">(success).</strong>"
      ],
      "text/plain": [
       "<IPython.core.display.HTML object>"
      ]
     },
     "metadata": {},
     "output_type": "display_data"
    },
    {
     "data": {
      "application/vnd.jupyter.widget-view+json": {
       "model_id": "c1fac5d1ab1b4cf1ba95fd156e4b82b9",
       "version_major": 2,
       "version_minor": 0
      },
      "text/plain": [
       "VBox(children=(Label(value='0.001 MB of 0.001 MB uploaded (0.000 MB deduped)\\r'), FloatProgress(value=1.0, max…"
      ]
     },
     "metadata": {},
     "output_type": "display_data"
    },
    {
     "data": {
      "text/html": [
       "<style>\n",
       "    table.wandb td:nth-child(1) { padding: 0 10px; text-align: left ; width: auto;} td:nth-child(2) {text-align: left ; width: 100%}\n",
       "    .wandb-row { display: flex; flex-direction: row; flex-wrap: wrap; justify-content: flex-start; width: 100% }\n",
       "    .wandb-col { display: flex; flex-direction: column; flex-basis: 100%; flex: 1; padding: 10px; }\n",
       "    </style>\n",
       "<div class=\"wandb-row\"><div class=\"wandb-col\"><h3>Run history:</h3><br/><table class=\"wandb\"><tr><td>alpha</td><td>▁</td></tr><tr><td>auc</td><td>▁</td></tr><tr><td>factors</td><td>▁</td></tr><tr><td>regularization</td><td>▁</td></tr></table><br/></div><div class=\"wandb-col\"><h3>Run summary:</h3><br/><table class=\"wandb\"><tr><td>alpha</td><td>0.1</td></tr><tr><td>auc</td><td>0.60802</td></tr><tr><td>factors</td><td>16</td></tr><tr><td>regularization</td><td>10</td></tr></table><br/></div></div>"
      ],
      "text/plain": [
       "<IPython.core.display.HTML object>"
      ]
     },
     "metadata": {},
     "output_type": "display_data"
    },
    {
     "data": {
      "text/html": [
       " View run <strong style=\"color:#cdcd00\">swept-sweep-4</strong> at: <a href=\"https://wandb.ai/fact-ai/recommender/runs/c3zfyf3g\" target=\"_blank\">https://wandb.ai/fact-ai/recommender/runs/c3zfyf3g</a><br/>Synced 6 W&B file(s), 0 media file(s), 0 artifact file(s) and 0 other file(s)"
      ],
      "text/plain": [
       "<IPython.core.display.HTML object>"
      ]
     },
     "metadata": {},
     "output_type": "display_data"
    },
    {
     "data": {
      "text/html": [
       "Find logs at: <code>../wandb/run-20230119_122500-c3zfyf3g/logs</code>"
      ],
      "text/plain": [
       "<IPython.core.display.HTML object>"
      ]
     },
     "metadata": {},
     "output_type": "display_data"
    },
    {
     "name": "stderr",
     "output_type": "stream",
     "text": [
      "\u001b[34m\u001b[1mwandb\u001b[0m: Sweep Agent: Waiting for job.\n",
      "\u001b[34m\u001b[1mwandb\u001b[0m: Job received.\n",
      "\u001b[34m\u001b[1mwandb\u001b[0m: Agent Starting Run: pld7udxd with config:\n",
      "\u001b[34m\u001b[1mwandb\u001b[0m: \talpha: 0.1\n",
      "\u001b[34m\u001b[1mwandb\u001b[0m: \tfactors: 32\n",
      "\u001b[34m\u001b[1mwandb\u001b[0m: \tregularization: 0.01\n",
      "Failed to detect the name of this notebook, you can set it manually with the WANDB_NOTEBOOK_NAME environment variable to enable code saving.\n"
     ]
    },
    {
     "data": {
      "text/html": [
       "Tracking run with wandb version 0.13.9"
      ],
      "text/plain": [
       "<IPython.core.display.HTML object>"
      ]
     },
     "metadata": {},
     "output_type": "display_data"
    },
    {
     "data": {
      "text/html": [
       "Run data is saved locally in <code>../wandb/run-20230119_122521-pld7udxd</code>"
      ],
      "text/plain": [
       "<IPython.core.display.HTML object>"
      ]
     },
     "metadata": {},
     "output_type": "display_data"
    },
    {
     "data": {
      "text/html": [
       "Syncing run <strong><a href=\"https://wandb.ai/fact-ai/recommender/runs/pld7udxd\" target=\"_blank\">robust-sweep-5</a></strong> to <a href=\"https://wandb.ai/fact-ai/recommender\" target=\"_blank\">Weights & Biases</a> (<a href=\"https://wandb.me/run\" target=\"_blank\">docs</a>)<br/>Sweep page: <a href=\"https://wandb.ai/fact-ai/recommender/sweeps/pngs1wi5\" target=\"_blank\">https://wandb.ai/fact-ai/recommender/sweeps/pngs1wi5</a>"
      ],
      "text/plain": [
       "<IPython.core.display.HTML object>"
      ]
     },
     "metadata": {},
     "output_type": "display_data"
    },
    {
     "data": {
      "text/html": [
       " View project at <a href=\"https://wandb.ai/fact-ai/recommender\" target=\"_blank\">https://wandb.ai/fact-ai/recommender</a>"
      ],
      "text/plain": [
       "<IPython.core.display.HTML object>"
      ]
     },
     "metadata": {},
     "output_type": "display_data"
    },
    {
     "data": {
      "text/html": [
       " View sweep at <a href=\"https://wandb.ai/fact-ai/recommender/sweeps/pngs1wi5\" target=\"_blank\">https://wandb.ai/fact-ai/recommender/sweeps/pngs1wi5</a>"
      ],
      "text/plain": [
       "<IPython.core.display.HTML object>"
      ]
     },
     "metadata": {},
     "output_type": "display_data"
    },
    {
     "data": {
      "text/html": [
       " View run at <a href=\"https://wandb.ai/fact-ai/recommender/runs/pld7udxd\" target=\"_blank\">https://wandb.ai/fact-ai/recommender/runs/pld7udxd</a>"
      ],
      "text/plain": [
       "<IPython.core.display.HTML object>"
      ]
     },
     "metadata": {},
     "output_type": "display_data"
    },
    {
     "name": "stderr",
     "output_type": "stream",
     "text": [
      "p19368 [23-01-19 12:25] [INFO]  Metric: auc, hyperparameters:  (__main__:10)\n",
      "p19368 [23-01-19 12:25] [INFO]  {'alpha': 0.1, 'factors': 32, 'regularization': 0.01}  (__main__:11)\n"
     ]
    },
    {
     "data": {
      "application/vnd.jupyter.widget-view+json": {
       "model_id": "e42e52ee49fb4572bd8cec540a9d3ffb",
       "version_major": 2,
       "version_minor": 0
      },
      "text/plain": [
       "  0%|          | 0/15 [00:00<?, ?it/s]"
      ]
     },
     "metadata": {},
     "output_type": "display_data"
    },
    {
     "data": {
      "application/vnd.jupyter.widget-view+json": {
       "model_id": "bb08b04aa21a4984a27c23d2acf55ce8",
       "version_major": 2,
       "version_minor": 0
      },
      "text/plain": [
       "  0%|          | 0/1839 [00:00<?, ?it/s]"
      ]
     },
     "metadata": {},
     "output_type": "display_data"
    },
    {
     "data": {
      "text/html": [
       "Waiting for W&B process to finish... <strong style=\"color:green\">(success).</strong>"
      ],
      "text/plain": [
       "<IPython.core.display.HTML object>"
      ]
     },
     "metadata": {},
     "output_type": "display_data"
    },
    {
     "data": {
      "text/html": [
       "<style>\n",
       "    table.wandb td:nth-child(1) { padding: 0 10px; text-align: left ; width: auto;} td:nth-child(2) {text-align: left ; width: 100%}\n",
       "    .wandb-row { display: flex; flex-direction: row; flex-wrap: wrap; justify-content: flex-start; width: 100% }\n",
       "    .wandb-col { display: flex; flex-direction: column; flex-basis: 100%; flex: 1; padding: 10px; }\n",
       "    </style>\n",
       "<div class=\"wandb-row\"><div class=\"wandb-col\"><h3>Run history:</h3><br/><table class=\"wandb\"><tr><td>alpha</td><td>▁</td></tr><tr><td>auc</td><td>▁</td></tr><tr><td>factors</td><td>▁</td></tr><tr><td>regularization</td><td>▁</td></tr></table><br/></div><div class=\"wandb-col\"><h3>Run summary:</h3><br/><table class=\"wandb\"><tr><td>alpha</td><td>0.1</td></tr><tr><td>auc</td><td>0.61138</td></tr><tr><td>factors</td><td>32</td></tr><tr><td>regularization</td><td>0.01</td></tr></table><br/></div></div>"
      ],
      "text/plain": [
       "<IPython.core.display.HTML object>"
      ]
     },
     "metadata": {},
     "output_type": "display_data"
    },
    {
     "data": {
      "text/html": [
       " View run <strong style=\"color:#cdcd00\">robust-sweep-5</strong> at: <a href=\"https://wandb.ai/fact-ai/recommender/runs/pld7udxd\" target=\"_blank\">https://wandb.ai/fact-ai/recommender/runs/pld7udxd</a><br/>Synced 6 W&B file(s), 0 media file(s), 0 artifact file(s) and 0 other file(s)"
      ],
      "text/plain": [
       "<IPython.core.display.HTML object>"
      ]
     },
     "metadata": {},
     "output_type": "display_data"
    },
    {
     "data": {
      "text/html": [
       "Find logs at: <code>../wandb/run-20230119_122521-pld7udxd/logs</code>"
      ],
      "text/plain": [
       "<IPython.core.display.HTML object>"
      ]
     },
     "metadata": {},
     "output_type": "display_data"
    },
    {
     "name": "stderr",
     "output_type": "stream",
     "text": [
      "\u001b[34m\u001b[1mwandb\u001b[0m: Agent Starting Run: tptbyg4o with config:\n",
      "\u001b[34m\u001b[1mwandb\u001b[0m: \talpha: 0.1\n",
      "\u001b[34m\u001b[1mwandb\u001b[0m: \tfactors: 32\n",
      "\u001b[34m\u001b[1mwandb\u001b[0m: \tregularization: 0.1\n",
      "Failed to detect the name of this notebook, you can set it manually with the WANDB_NOTEBOOK_NAME environment variable to enable code saving.\n"
     ]
    },
    {
     "data": {
      "text/html": [
       "Tracking run with wandb version 0.13.9"
      ],
      "text/plain": [
       "<IPython.core.display.HTML object>"
      ]
     },
     "metadata": {},
     "output_type": "display_data"
    },
    {
     "data": {
      "text/html": [
       "Run data is saved locally in <code>../wandb/run-20230119_122532-tptbyg4o</code>"
      ],
      "text/plain": [
       "<IPython.core.display.HTML object>"
      ]
     },
     "metadata": {},
     "output_type": "display_data"
    },
    {
     "data": {
      "text/html": [
       "Syncing run <strong><a href=\"https://wandb.ai/fact-ai/recommender/runs/tptbyg4o\" target=\"_blank\">ancient-sweep-6</a></strong> to <a href=\"https://wandb.ai/fact-ai/recommender\" target=\"_blank\">Weights & Biases</a> (<a href=\"https://wandb.me/run\" target=\"_blank\">docs</a>)<br/>Sweep page: <a href=\"https://wandb.ai/fact-ai/recommender/sweeps/pngs1wi5\" target=\"_blank\">https://wandb.ai/fact-ai/recommender/sweeps/pngs1wi5</a>"
      ],
      "text/plain": [
       "<IPython.core.display.HTML object>"
      ]
     },
     "metadata": {},
     "output_type": "display_data"
    },
    {
     "data": {
      "text/html": [
       " View project at <a href=\"https://wandb.ai/fact-ai/recommender\" target=\"_blank\">https://wandb.ai/fact-ai/recommender</a>"
      ],
      "text/plain": [
       "<IPython.core.display.HTML object>"
      ]
     },
     "metadata": {},
     "output_type": "display_data"
    },
    {
     "data": {
      "text/html": [
       " View sweep at <a href=\"https://wandb.ai/fact-ai/recommender/sweeps/pngs1wi5\" target=\"_blank\">https://wandb.ai/fact-ai/recommender/sweeps/pngs1wi5</a>"
      ],
      "text/plain": [
       "<IPython.core.display.HTML object>"
      ]
     },
     "metadata": {},
     "output_type": "display_data"
    },
    {
     "data": {
      "text/html": [
       " View run at <a href=\"https://wandb.ai/fact-ai/recommender/runs/tptbyg4o\" target=\"_blank\">https://wandb.ai/fact-ai/recommender/runs/tptbyg4o</a>"
      ],
      "text/plain": [
       "<IPython.core.display.HTML object>"
      ]
     },
     "metadata": {},
     "output_type": "display_data"
    },
    {
     "name": "stderr",
     "output_type": "stream",
     "text": [
      "p19368 [23-01-19 12:25] [INFO]  Metric: auc, hyperparameters:  (__main__:10)\n",
      "p19368 [23-01-19 12:25] [INFO]  {'alpha': 0.1, 'factors': 32, 'regularization': 0.1}  (__main__:11)\n"
     ]
    },
    {
     "data": {
      "application/vnd.jupyter.widget-view+json": {
       "model_id": "eb75cac7757647b2a6b202a766ac44c2",
       "version_major": 2,
       "version_minor": 0
      },
      "text/plain": [
       "  0%|          | 0/15 [00:00<?, ?it/s]"
      ]
     },
     "metadata": {},
     "output_type": "display_data"
    },
    {
     "data": {
      "application/vnd.jupyter.widget-view+json": {
       "model_id": "9ac4c3d0cb43460f9c5f55f6ccdc83d6",
       "version_major": 2,
       "version_minor": 0
      },
      "text/plain": [
       "  0%|          | 0/1839 [00:00<?, ?it/s]"
      ]
     },
     "metadata": {},
     "output_type": "display_data"
    },
    {
     "data": {
      "text/html": [
       "Waiting for W&B process to finish... <strong style=\"color:green\">(success).</strong>"
      ],
      "text/plain": [
       "<IPython.core.display.HTML object>"
      ]
     },
     "metadata": {},
     "output_type": "display_data"
    },
    {
     "data": {
      "application/vnd.jupyter.widget-view+json": {
       "model_id": "5ca9ee0e15ef42b2ad4488b4a6d75b6a",
       "version_major": 2,
       "version_minor": 0
      },
      "text/plain": [
       "VBox(children=(Label(value='0.001 MB of 0.001 MB uploaded (0.000 MB deduped)\\r'), FloatProgress(value=1.0, max…"
      ]
     },
     "metadata": {},
     "output_type": "display_data"
    },
    {
     "data": {
      "text/html": [
       "<style>\n",
       "    table.wandb td:nth-child(1) { padding: 0 10px; text-align: left ; width: auto;} td:nth-child(2) {text-align: left ; width: 100%}\n",
       "    .wandb-row { display: flex; flex-direction: row; flex-wrap: wrap; justify-content: flex-start; width: 100% }\n",
       "    .wandb-col { display: flex; flex-direction: column; flex-basis: 100%; flex: 1; padding: 10px; }\n",
       "    </style>\n",
       "<div class=\"wandb-row\"><div class=\"wandb-col\"><h3>Run history:</h3><br/><table class=\"wandb\"><tr><td>alpha</td><td>▁</td></tr><tr><td>auc</td><td>▁</td></tr><tr><td>factors</td><td>▁</td></tr><tr><td>regularization</td><td>▁</td></tr></table><br/></div><div class=\"wandb-col\"><h3>Run summary:</h3><br/><table class=\"wandb\"><tr><td>alpha</td><td>0.1</td></tr><tr><td>auc</td><td>0.61195</td></tr><tr><td>factors</td><td>32</td></tr><tr><td>regularization</td><td>0.1</td></tr></table><br/></div></div>"
      ],
      "text/plain": [
       "<IPython.core.display.HTML object>"
      ]
     },
     "metadata": {},
     "output_type": "display_data"
    },
    {
     "data": {
      "text/html": [
       " View run <strong style=\"color:#cdcd00\">ancient-sweep-6</strong> at: <a href=\"https://wandb.ai/fact-ai/recommender/runs/tptbyg4o\" target=\"_blank\">https://wandb.ai/fact-ai/recommender/runs/tptbyg4o</a><br/>Synced 6 W&B file(s), 0 media file(s), 0 artifact file(s) and 0 other file(s)"
      ],
      "text/plain": [
       "<IPython.core.display.HTML object>"
      ]
     },
     "metadata": {},
     "output_type": "display_data"
    },
    {
     "data": {
      "text/html": [
       "Find logs at: <code>../wandb/run-20230119_122532-tptbyg4o/logs</code>"
      ],
      "text/plain": [
       "<IPython.core.display.HTML object>"
      ]
     },
     "metadata": {},
     "output_type": "display_data"
    },
    {
     "name": "stderr",
     "output_type": "stream",
     "text": [
      "\u001b[34m\u001b[1mwandb\u001b[0m: Agent Starting Run: htgcq9or with config:\n",
      "\u001b[34m\u001b[1mwandb\u001b[0m: \talpha: 0.1\n",
      "\u001b[34m\u001b[1mwandb\u001b[0m: \tfactors: 32\n",
      "\u001b[34m\u001b[1mwandb\u001b[0m: \tregularization: 1\n",
      "Failed to detect the name of this notebook, you can set it manually with the WANDB_NOTEBOOK_NAME environment variable to enable code saving.\n"
     ]
    },
    {
     "data": {
      "text/html": [
       "Tracking run with wandb version 0.13.9"
      ],
      "text/plain": [
       "<IPython.core.display.HTML object>"
      ]
     },
     "metadata": {},
     "output_type": "display_data"
    },
    {
     "data": {
      "text/html": [
       "Run data is saved locally in <code>../wandb/run-20230119_122542-htgcq9or</code>"
      ],
      "text/plain": [
       "<IPython.core.display.HTML object>"
      ]
     },
     "metadata": {},
     "output_type": "display_data"
    },
    {
     "data": {
      "text/html": [
       "Syncing run <strong><a href=\"https://wandb.ai/fact-ai/recommender/runs/htgcq9or\" target=\"_blank\">revived-sweep-7</a></strong> to <a href=\"https://wandb.ai/fact-ai/recommender\" target=\"_blank\">Weights & Biases</a> (<a href=\"https://wandb.me/run\" target=\"_blank\">docs</a>)<br/>Sweep page: <a href=\"https://wandb.ai/fact-ai/recommender/sweeps/pngs1wi5\" target=\"_blank\">https://wandb.ai/fact-ai/recommender/sweeps/pngs1wi5</a>"
      ],
      "text/plain": [
       "<IPython.core.display.HTML object>"
      ]
     },
     "metadata": {},
     "output_type": "display_data"
    },
    {
     "data": {
      "text/html": [
       " View project at <a href=\"https://wandb.ai/fact-ai/recommender\" target=\"_blank\">https://wandb.ai/fact-ai/recommender</a>"
      ],
      "text/plain": [
       "<IPython.core.display.HTML object>"
      ]
     },
     "metadata": {},
     "output_type": "display_data"
    },
    {
     "data": {
      "text/html": [
       " View sweep at <a href=\"https://wandb.ai/fact-ai/recommender/sweeps/pngs1wi5\" target=\"_blank\">https://wandb.ai/fact-ai/recommender/sweeps/pngs1wi5</a>"
      ],
      "text/plain": [
       "<IPython.core.display.HTML object>"
      ]
     },
     "metadata": {},
     "output_type": "display_data"
    },
    {
     "data": {
      "text/html": [
       " View run at <a href=\"https://wandb.ai/fact-ai/recommender/runs/htgcq9or\" target=\"_blank\">https://wandb.ai/fact-ai/recommender/runs/htgcq9or</a>"
      ],
      "text/plain": [
       "<IPython.core.display.HTML object>"
      ]
     },
     "metadata": {},
     "output_type": "display_data"
    },
    {
     "name": "stderr",
     "output_type": "stream",
     "text": [
      "p19368 [23-01-19 12:25] [INFO]  Metric: auc, hyperparameters:  (__main__:10)\n",
      "p19368 [23-01-19 12:25] [INFO]  {'alpha': 0.1, 'factors': 32, 'regularization': 1}  (__main__:11)\n"
     ]
    },
    {
     "data": {
      "application/vnd.jupyter.widget-view+json": {
       "model_id": "d101e67026e64cca9c56bcd384ff4280",
       "version_major": 2,
       "version_minor": 0
      },
      "text/plain": [
       "  0%|          | 0/15 [00:00<?, ?it/s]"
      ]
     },
     "metadata": {},
     "output_type": "display_data"
    },
    {
     "data": {
      "application/vnd.jupyter.widget-view+json": {
       "model_id": "9335ee3fb35c41088e7302e6f0badc4a",
       "version_major": 2,
       "version_minor": 0
      },
      "text/plain": [
       "  0%|          | 0/1839 [00:00<?, ?it/s]"
      ]
     },
     "metadata": {},
     "output_type": "display_data"
    },
    {
     "data": {
      "text/html": [
       "Waiting for W&B process to finish... <strong style=\"color:green\">(success).</strong>"
      ],
      "text/plain": [
       "<IPython.core.display.HTML object>"
      ]
     },
     "metadata": {},
     "output_type": "display_data"
    },
    {
     "data": {
      "application/vnd.jupyter.widget-view+json": {
       "model_id": "d6cd73f1abdf4d36b1737958f249c3f4",
       "version_major": 2,
       "version_minor": 0
      },
      "text/plain": [
       "VBox(children=(Label(value='0.001 MB of 0.001 MB uploaded (0.000 MB deduped)\\r'), FloatProgress(value=1.0, max…"
      ]
     },
     "metadata": {},
     "output_type": "display_data"
    },
    {
     "data": {
      "text/html": [
       "<style>\n",
       "    table.wandb td:nth-child(1) { padding: 0 10px; text-align: left ; width: auto;} td:nth-child(2) {text-align: left ; width: 100%}\n",
       "    .wandb-row { display: flex; flex-direction: row; flex-wrap: wrap; justify-content: flex-start; width: 100% }\n",
       "    .wandb-col { display: flex; flex-direction: column; flex-basis: 100%; flex: 1; padding: 10px; }\n",
       "    </style>\n",
       "<div class=\"wandb-row\"><div class=\"wandb-col\"><h3>Run history:</h3><br/><table class=\"wandb\"><tr><td>alpha</td><td>▁</td></tr><tr><td>auc</td><td>▁</td></tr><tr><td>factors</td><td>▁</td></tr><tr><td>regularization</td><td>▁</td></tr></table><br/></div><div class=\"wandb-col\"><h3>Run summary:</h3><br/><table class=\"wandb\"><tr><td>alpha</td><td>0.1</td></tr><tr><td>auc</td><td>0.61346</td></tr><tr><td>factors</td><td>32</td></tr><tr><td>regularization</td><td>1</td></tr></table><br/></div></div>"
      ],
      "text/plain": [
       "<IPython.core.display.HTML object>"
      ]
     },
     "metadata": {},
     "output_type": "display_data"
    },
    {
     "data": {
      "text/html": [
       " View run <strong style=\"color:#cdcd00\">revived-sweep-7</strong> at: <a href=\"https://wandb.ai/fact-ai/recommender/runs/htgcq9or\" target=\"_blank\">https://wandb.ai/fact-ai/recommender/runs/htgcq9or</a><br/>Synced 6 W&B file(s), 0 media file(s), 0 artifact file(s) and 0 other file(s)"
      ],
      "text/plain": [
       "<IPython.core.display.HTML object>"
      ]
     },
     "metadata": {},
     "output_type": "display_data"
    },
    {
     "data": {
      "text/html": [
       "Find logs at: <code>../wandb/run-20230119_122542-htgcq9or/logs</code>"
      ],
      "text/plain": [
       "<IPython.core.display.HTML object>"
      ]
     },
     "metadata": {},
     "output_type": "display_data"
    },
    {
     "name": "stderr",
     "output_type": "stream",
     "text": [
      "\u001b[34m\u001b[1mwandb\u001b[0m: Agent Starting Run: eab5depo with config:\n",
      "\u001b[34m\u001b[1mwandb\u001b[0m: \talpha: 0.1\n",
      "\u001b[34m\u001b[1mwandb\u001b[0m: \tfactors: 32\n",
      "\u001b[34m\u001b[1mwandb\u001b[0m: \tregularization: 10\n",
      "Failed to detect the name of this notebook, you can set it manually with the WANDB_NOTEBOOK_NAME environment variable to enable code saving.\n"
     ]
    },
    {
     "data": {
      "text/html": [
       "Tracking run with wandb version 0.13.9"
      ],
      "text/plain": [
       "<IPython.core.display.HTML object>"
      ]
     },
     "metadata": {},
     "output_type": "display_data"
    },
    {
     "data": {
      "text/html": [
       "Run data is saved locally in <code>../wandb/run-20230119_122552-eab5depo</code>"
      ],
      "text/plain": [
       "<IPython.core.display.HTML object>"
      ]
     },
     "metadata": {},
     "output_type": "display_data"
    },
    {
     "data": {
      "text/html": [
       "Syncing run <strong><a href=\"https://wandb.ai/fact-ai/recommender/runs/eab5depo\" target=\"_blank\">amber-sweep-8</a></strong> to <a href=\"https://wandb.ai/fact-ai/recommender\" target=\"_blank\">Weights & Biases</a> (<a href=\"https://wandb.me/run\" target=\"_blank\">docs</a>)<br/>Sweep page: <a href=\"https://wandb.ai/fact-ai/recommender/sweeps/pngs1wi5\" target=\"_blank\">https://wandb.ai/fact-ai/recommender/sweeps/pngs1wi5</a>"
      ],
      "text/plain": [
       "<IPython.core.display.HTML object>"
      ]
     },
     "metadata": {},
     "output_type": "display_data"
    },
    {
     "data": {
      "text/html": [
       " View project at <a href=\"https://wandb.ai/fact-ai/recommender\" target=\"_blank\">https://wandb.ai/fact-ai/recommender</a>"
      ],
      "text/plain": [
       "<IPython.core.display.HTML object>"
      ]
     },
     "metadata": {},
     "output_type": "display_data"
    },
    {
     "data": {
      "text/html": [
       " View sweep at <a href=\"https://wandb.ai/fact-ai/recommender/sweeps/pngs1wi5\" target=\"_blank\">https://wandb.ai/fact-ai/recommender/sweeps/pngs1wi5</a>"
      ],
      "text/plain": [
       "<IPython.core.display.HTML object>"
      ]
     },
     "metadata": {},
     "output_type": "display_data"
    },
    {
     "data": {
      "text/html": [
       " View run at <a href=\"https://wandb.ai/fact-ai/recommender/runs/eab5depo\" target=\"_blank\">https://wandb.ai/fact-ai/recommender/runs/eab5depo</a>"
      ],
      "text/plain": [
       "<IPython.core.display.HTML object>"
      ]
     },
     "metadata": {},
     "output_type": "display_data"
    },
    {
     "name": "stderr",
     "output_type": "stream",
     "text": [
      "p19368 [23-01-19 12:25] [INFO]  Metric: auc, hyperparameters:  (__main__:10)\n",
      "p19368 [23-01-19 12:25] [INFO]  {'alpha': 0.1, 'factors': 32, 'regularization': 10}  (__main__:11)\n"
     ]
    },
    {
     "data": {
      "application/vnd.jupyter.widget-view+json": {
       "model_id": "8fd173d7dccc4b00ac970046f01cce16",
       "version_major": 2,
       "version_minor": 0
      },
      "text/plain": [
       "  0%|          | 0/15 [00:00<?, ?it/s]"
      ]
     },
     "metadata": {},
     "output_type": "display_data"
    },
    {
     "data": {
      "application/vnd.jupyter.widget-view+json": {
       "model_id": "5deaf324bea447febb615031afa614e5",
       "version_major": 2,
       "version_minor": 0
      },
      "text/plain": [
       "  0%|          | 0/1839 [00:00<?, ?it/s]"
      ]
     },
     "metadata": {},
     "output_type": "display_data"
    },
    {
     "data": {
      "text/html": [
       "Waiting for W&B process to finish... <strong style=\"color:green\">(success).</strong>"
      ],
      "text/plain": [
       "<IPython.core.display.HTML object>"
      ]
     },
     "metadata": {},
     "output_type": "display_data"
    },
    {
     "data": {
      "application/vnd.jupyter.widget-view+json": {
       "model_id": "217b34e7ff554f9ca592b3c83d83c44d",
       "version_major": 2,
       "version_minor": 0
      },
      "text/plain": [
       "VBox(children=(Label(value='0.001 MB of 0.001 MB uploaded (0.000 MB deduped)\\r'), FloatProgress(value=1.0, max…"
      ]
     },
     "metadata": {},
     "output_type": "display_data"
    },
    {
     "data": {
      "text/html": [
       "<style>\n",
       "    table.wandb td:nth-child(1) { padding: 0 10px; text-align: left ; width: auto;} td:nth-child(2) {text-align: left ; width: 100%}\n",
       "    .wandb-row { display: flex; flex-direction: row; flex-wrap: wrap; justify-content: flex-start; width: 100% }\n",
       "    .wandb-col { display: flex; flex-direction: column; flex-basis: 100%; flex: 1; padding: 10px; }\n",
       "    </style>\n",
       "<div class=\"wandb-row\"><div class=\"wandb-col\"><h3>Run history:</h3><br/><table class=\"wandb\"><tr><td>alpha</td><td>▁</td></tr><tr><td>auc</td><td>▁</td></tr><tr><td>factors</td><td>▁</td></tr><tr><td>regularization</td><td>▁</td></tr></table><br/></div><div class=\"wandb-col\"><h3>Run summary:</h3><br/><table class=\"wandb\"><tr><td>alpha</td><td>0.1</td></tr><tr><td>auc</td><td>0.61202</td></tr><tr><td>factors</td><td>32</td></tr><tr><td>regularization</td><td>10</td></tr></table><br/></div></div>"
      ],
      "text/plain": [
       "<IPython.core.display.HTML object>"
      ]
     },
     "metadata": {},
     "output_type": "display_data"
    },
    {
     "data": {
      "text/html": [
       " View run <strong style=\"color:#cdcd00\">amber-sweep-8</strong> at: <a href=\"https://wandb.ai/fact-ai/recommender/runs/eab5depo\" target=\"_blank\">https://wandb.ai/fact-ai/recommender/runs/eab5depo</a><br/>Synced 6 W&B file(s), 0 media file(s), 0 artifact file(s) and 0 other file(s)"
      ],
      "text/plain": [
       "<IPython.core.display.HTML object>"
      ]
     },
     "metadata": {},
     "output_type": "display_data"
    },
    {
     "data": {
      "text/html": [
       "Find logs at: <code>../wandb/run-20230119_122552-eab5depo/logs</code>"
      ],
      "text/plain": [
       "<IPython.core.display.HTML object>"
      ]
     },
     "metadata": {},
     "output_type": "display_data"
    },
    {
     "name": "stderr",
     "output_type": "stream",
     "text": [
      "\u001b[34m\u001b[1mwandb\u001b[0m: Agent Starting Run: qegh6oi7 with config:\n",
      "\u001b[34m\u001b[1mwandb\u001b[0m: \talpha: 0.1\n",
      "\u001b[34m\u001b[1mwandb\u001b[0m: \tfactors: 64\n",
      "\u001b[34m\u001b[1mwandb\u001b[0m: \tregularization: 0.01\n",
      "Failed to detect the name of this notebook, you can set it manually with the WANDB_NOTEBOOK_NAME environment variable to enable code saving.\n"
     ]
    },
    {
     "data": {
      "text/html": [
       "Tracking run with wandb version 0.13.9"
      ],
      "text/plain": [
       "<IPython.core.display.HTML object>"
      ]
     },
     "metadata": {},
     "output_type": "display_data"
    },
    {
     "data": {
      "text/html": [
       "Run data is saved locally in <code>../wandb/run-20230119_122603-qegh6oi7</code>"
      ],
      "text/plain": [
       "<IPython.core.display.HTML object>"
      ]
     },
     "metadata": {},
     "output_type": "display_data"
    },
    {
     "data": {
      "text/html": [
       "Syncing run <strong><a href=\"https://wandb.ai/fact-ai/recommender/runs/qegh6oi7\" target=\"_blank\">prime-sweep-9</a></strong> to <a href=\"https://wandb.ai/fact-ai/recommender\" target=\"_blank\">Weights & Biases</a> (<a href=\"https://wandb.me/run\" target=\"_blank\">docs</a>)<br/>Sweep page: <a href=\"https://wandb.ai/fact-ai/recommender/sweeps/pngs1wi5\" target=\"_blank\">https://wandb.ai/fact-ai/recommender/sweeps/pngs1wi5</a>"
      ],
      "text/plain": [
       "<IPython.core.display.HTML object>"
      ]
     },
     "metadata": {},
     "output_type": "display_data"
    },
    {
     "data": {
      "text/html": [
       " View project at <a href=\"https://wandb.ai/fact-ai/recommender\" target=\"_blank\">https://wandb.ai/fact-ai/recommender</a>"
      ],
      "text/plain": [
       "<IPython.core.display.HTML object>"
      ]
     },
     "metadata": {},
     "output_type": "display_data"
    },
    {
     "data": {
      "text/html": [
       " View sweep at <a href=\"https://wandb.ai/fact-ai/recommender/sweeps/pngs1wi5\" target=\"_blank\">https://wandb.ai/fact-ai/recommender/sweeps/pngs1wi5</a>"
      ],
      "text/plain": [
       "<IPython.core.display.HTML object>"
      ]
     },
     "metadata": {},
     "output_type": "display_data"
    },
    {
     "data": {
      "text/html": [
       " View run at <a href=\"https://wandb.ai/fact-ai/recommender/runs/qegh6oi7\" target=\"_blank\">https://wandb.ai/fact-ai/recommender/runs/qegh6oi7</a>"
      ],
      "text/plain": [
       "<IPython.core.display.HTML object>"
      ]
     },
     "metadata": {},
     "output_type": "display_data"
    },
    {
     "name": "stderr",
     "output_type": "stream",
     "text": [
      "p19368 [23-01-19 12:26] [INFO]  Metric: auc, hyperparameters:  (__main__:10)\n",
      "p19368 [23-01-19 12:26] [INFO]  {'alpha': 0.1, 'factors': 64, 'regularization': 0.01}  (__main__:11)\n"
     ]
    },
    {
     "data": {
      "application/vnd.jupyter.widget-view+json": {
       "model_id": "38ba5a104d844162a505abe77614587e",
       "version_major": 2,
       "version_minor": 0
      },
      "text/plain": [
       "  0%|          | 0/15 [00:00<?, ?it/s]"
      ]
     },
     "metadata": {},
     "output_type": "display_data"
    },
    {
     "data": {
      "application/vnd.jupyter.widget-view+json": {
       "model_id": "0c57e2f9e4064ec7875cd94822524662",
       "version_major": 2,
       "version_minor": 0
      },
      "text/plain": [
       "  0%|          | 0/1839 [00:00<?, ?it/s]"
      ]
     },
     "metadata": {},
     "output_type": "display_data"
    },
    {
     "data": {
      "text/html": [
       "Waiting for W&B process to finish... <strong style=\"color:green\">(success).</strong>"
      ],
      "text/plain": [
       "<IPython.core.display.HTML object>"
      ]
     },
     "metadata": {},
     "output_type": "display_data"
    },
    {
     "data": {
      "application/vnd.jupyter.widget-view+json": {
       "model_id": "b9b249c9f5ea470bb48f0b10e9dd5b3b",
       "version_major": 2,
       "version_minor": 0
      },
      "text/plain": [
       "VBox(children=(Label(value='0.001 MB of 0.001 MB uploaded (0.000 MB deduped)\\r'), FloatProgress(value=1.0, max…"
      ]
     },
     "metadata": {},
     "output_type": "display_data"
    },
    {
     "data": {
      "text/html": [
       "<style>\n",
       "    table.wandb td:nth-child(1) { padding: 0 10px; text-align: left ; width: auto;} td:nth-child(2) {text-align: left ; width: 100%}\n",
       "    .wandb-row { display: flex; flex-direction: row; flex-wrap: wrap; justify-content: flex-start; width: 100% }\n",
       "    .wandb-col { display: flex; flex-direction: column; flex-basis: 100%; flex: 1; padding: 10px; }\n",
       "    </style>\n",
       "<div class=\"wandb-row\"><div class=\"wandb-col\"><h3>Run history:</h3><br/><table class=\"wandb\"><tr><td>alpha</td><td>▁</td></tr><tr><td>auc</td><td>▁</td></tr><tr><td>factors</td><td>▁</td></tr><tr><td>regularization</td><td>▁</td></tr></table><br/></div><div class=\"wandb-col\"><h3>Run summary:</h3><br/><table class=\"wandb\"><tr><td>alpha</td><td>0.1</td></tr><tr><td>auc</td><td>0.60535</td></tr><tr><td>factors</td><td>64</td></tr><tr><td>regularization</td><td>0.01</td></tr></table><br/></div></div>"
      ],
      "text/plain": [
       "<IPython.core.display.HTML object>"
      ]
     },
     "metadata": {},
     "output_type": "display_data"
    },
    {
     "data": {
      "text/html": [
       " View run <strong style=\"color:#cdcd00\">prime-sweep-9</strong> at: <a href=\"https://wandb.ai/fact-ai/recommender/runs/qegh6oi7\" target=\"_blank\">https://wandb.ai/fact-ai/recommender/runs/qegh6oi7</a><br/>Synced 6 W&B file(s), 0 media file(s), 0 artifact file(s) and 0 other file(s)"
      ],
      "text/plain": [
       "<IPython.core.display.HTML object>"
      ]
     },
     "metadata": {},
     "output_type": "display_data"
    },
    {
     "data": {
      "text/html": [
       "Find logs at: <code>../wandb/run-20230119_122603-qegh6oi7/logs</code>"
      ],
      "text/plain": [
       "<IPython.core.display.HTML object>"
      ]
     },
     "metadata": {},
     "output_type": "display_data"
    },
    {
     "name": "stderr",
     "output_type": "stream",
     "text": [
      "\u001b[34m\u001b[1mwandb\u001b[0m: Agent Starting Run: y4x26b2u with config:\n",
      "\u001b[34m\u001b[1mwandb\u001b[0m: \talpha: 0.1\n",
      "\u001b[34m\u001b[1mwandb\u001b[0m: \tfactors: 64\n",
      "\u001b[34m\u001b[1mwandb\u001b[0m: \tregularization: 0.1\n",
      "Failed to detect the name of this notebook, you can set it manually with the WANDB_NOTEBOOK_NAME environment variable to enable code saving.\n"
     ]
    }
   ],
   "source": [
    "# Start sweep job.\n",
    "wandb.agent(sweep_id, function=ft.partial(recommender_grid_search, gt_train_csr, gt_valid_csr, metric))"
   ]
  },
  {
   "cell_type": "code",
   "execution_count": null,
   "id": "ec3fb2a5-913d-4545-9626-ea4a999d0aae",
   "metadata": {},
   "outputs": [],
   "source": [
    "# ground_truth_paths = [\n",
    "#     # config.MODELS_DIR / \"model_lastfm_ground_truth.npz\",\n",
    "#     # config.MODELS_DIR / \"hparams_lastfm_ground_truth.txt\",\n",
    "#     \"model_lastfm_ground_truth.npz\",\n",
    "#     \"hparams_lastfm_ground_truth.txt\"\n",
    "# ]\n",
    "# \n",
    "# hparams = {'factors': [16, ],\n",
    "#  'regularization': [0.01, 0.1],\n",
    "#  'alpha': [0.1]}\n",
    "# \n",
    "# gt_best_model = recommender_grid_search(gt_train_csr, gt_valid_csr, ground_truth_paths, \"lastfm_ground_truth\", \n",
    "#                                         #**hparams\n",
    "#                                         **constants.ground_truth_hparams\n",
    "#                                        )"
   ]
  },
  {
   "cell_type": "code",
   "execution_count": null,
   "id": "18658eba-fe10-489e-a2ab-a82eb505266e",
   "metadata": {},
   "outputs": [],
   "source": [
    "# def train_eval_recommender(\n",
    "#     train_mat: sparse.csr_matrix,\n",
    "#     valid_mat: sparse.csr_matrix,\n",
    "#     **hparams\n",
    "# ) -> Tuple[Dict[str, float], implicit.als.AlternatingLeastSquares]:\n",
    "#     model = implicit.als.AlternatingLeastSquares(**hparams)\n",
    "#     model.fit(train_mat)\n",
    "#     metrics = evaluation.ranking_metrics_at_k(model, train_mat, valid_mat)\n",
    "#     wandb.log(metrics)\n",
    "#     return metrics, model\n",
    "#def recommender_grid_search(\n",
    "#    train_mat: sparse.csr_matrix,\n",
    "#    valid_mat: sparse.csr_matrix,\n",
    "#    best_model_paths: Sequence[str],\n",
    "#    run_name: str,\n",
    "#    metric: str = \"map\",\n",
    "#    **hyperparams: Dict[str, Sequence[float]],\n",
    "#) -> implicit.als.AlternatingLeastSquares:\n",
    "#    \n",
    "#    logger.info(\"Hyperparameters in grid search:\")\n",
    "#    logger.info(pprint.pformat(hyperparams))\n",
    "#    hyperparams_flat = list(it.product(*hyperparams.values()))\n",
    "#\n",
    "#    best_model_path, best_hparams_path = best_model_paths\n",
    "#    best_score, best_model, best_hparams = -1.0, None, None\n",
    "#\n",
    "#    for i, hparams in enumerate(hyperparams_flat):\n",
    "#        hparams_dict = dict(zip(hyperparams.keys(), hparams))\n",
    "#        run = wandb.init(project=\"recommender\", entity=\"fact-ai\", name=f\"{run_name}_{i}\", dir=config.WANDB_DIR, config=hparams_dict, reinit=True)\n",
    "#        with run:\n",
    "#            metrics, model = train_eval_recommender(train_mat, valid_mat, **hparams_dict)\n",
    "#        score = metrics[metric]\n",
    "#        if score > best_score:\n",
    "#            logger.info(\n",
    "#                \"%d: Best model found! Old %s: %f new %s: %f hparams: %s\",\n",
    "#                i,\n",
    "#                metric,\n",
    "#                best_score,\n",
    "#                metric,\n",
    "#                score,\n",
    "#                hparams,\n",
    "#            )\n",
    "#            best_score = score\n",
    "#            best_model = deepcopy(model)\n",
    "#            best_hparams = deepcopy(hparams)\n",
    "#\n",
    "#    best_model.save(best_model_path)\n",
    "#    logger.debug(\"Saved best model to %s\", best_model_path)\n",
    "#    with open(best_hparams_path, \"w\") as fd:\n",
    "#        fd.write(\"factor,regularizer,alpha,metric,score\\n\")\n",
    "#        fd.write(f\"{','.join(list(map(str, best_hparams + (metric, best_score))))}\\n\")\n",
    "#    logger.debug(\"Saved best model hyperparams to %s\", best_hparams_path)\n",
    "#    return best_model"
   ]
  }
 ],
 "metadata": {
  "kernelspec": {
   "display_name": "Python 3",
   "language": "python",
   "name": "python3"
  },
  "language_info": {
   "name": "python",
   "version": "3.11.1 (tags/v3.11.1:a7a450f, Dec  6 2022, 19:58:39) [MSC v.1934 64 bit (AMD64)]"
  },
  "vscode": {
   "interpreter": {
    "hash": "376dd7633afddb7e11c0a9ffa5f656d1a19ddfafae55033d07193535982b765e"
   }
  }
 },
 "nbformat": 4,
 "nbformat_minor": 5
}
