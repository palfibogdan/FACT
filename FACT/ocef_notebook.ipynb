{
 "cells": [
  {
   "cell_type": "code",
   "execution_count": null,
   "id": "2387c85b-5cbd-48e9-ab70-09b5b9cf0130",
   "metadata": {},
   "outputs": [
    {
     "data": {
      "text/plain": [
       "'/home/xqz-u/master/FACT/FACT/src'"
      ]
     },
     "execution_count": null,
     "metadata": {},
     "output_type": "execute_result"
    }
   ],
   "source": [
    "import os\n",
    "\n",
    "if not os.getcwd().endswith(\"src\"):\n",
    "    %cd ..\n",
    "%pwd"
   ]
  },
  {
   "cell_type": "code",
   "execution_count": null,
   "id": "d2b23d4a-c900-4425-8db3-14b527ca108d",
   "metadata": {},
   "outputs": [
    {
     "name": "stderr",
     "output_type": "stream",
     "text": [
      "/home/xqz-u/py_envs/FACT/lib/python3.8/site-packages/tqdm/auto.py:22: TqdmWarning: IProgress not found. Please update jupyter and ipywidgets. See https://ipywidgets.readthedocs.io/en/stable/user_install.html\n",
      "  from .autonotebook import tqdm as notebook_tqdm\n",
      "/home/xqz-u/py_envs/FACT/lib/python3.8/site-packages/implicit/gpu/__init__.py:13: UserWarning: CUDA extension is built, but disabling GPU support because of 'Cuda Error: CUDA driver version is insufficient for CUDA runtime version (/project/./implicit/gpu/utils.h:71)'\n",
      "  warnings.warn(\n"
     ]
    }
   ],
   "source": [
    "import dataclasses\n",
    "import pprint\n",
    "\n",
    "from matplotlib import pyplot as plt\n",
    "import pandas as pd\n",
    "import seaborn as sns\n",
    "\n",
    "import config\n",
    "import ocef\n",
    "import sources_of_envy"
   ]
  },
  {
   "cell_type": "code",
   "execution_count": null,
   "id": "702cd14d-fbb1-4f1c-b1bb-360d396d4719",
   "metadata": {},
   "outputs": [
    {
     "name": "stdout",
     "output_type": "stream",
     "text": [
      "{'assets_root_dir': PosixPath('..'),\n",
      " 'datasets': ['lastfm', 'movielens'],\n",
      " 'epsilon': 0.05,\n",
      " 'evaluation_k': 40,\n",
      " 'experiment': None,\n",
      " 'ground_truth_files': {'lastfm': PosixPath('../lastfm/models/model_ground_truth.npz'),\n",
      "                        'movielens': PosixPath('../movielens/models/model_ground_truth.npz')},\n",
      " 'ground_truth_models': {'lastfm': <class 'recommender_models.ALS'>,\n",
      "                         'movielens': <class 'recommender_models.ALS'>},\n",
      " 'lastfm_ground_truth_file': PosixPath('../lastfm/models/model_ground_truth.npz'),\n",
      " 'lastfm_ground_truth_model': <class 'recommender_models.ALS'>,\n",
      " 'lastfm_recommender_dir': PosixPath('../lastfm/models'),\n",
      " 'lastfm_recommender_model': <class 'recommender_models.ALS'>,\n",
      " 'lastfm_topk_artists': 2500,\n",
      " 'model_base_name': 'model',\n",
      " 'movielens_ground_truth_file': PosixPath('../movielens/models/model_ground_truth.npz'),\n",
      " 'movielens_ground_truth_model': <class 'recommender_models.ALS'>,\n",
      " 'movielens_recommender_dir': PosixPath('../movielens/models'),\n",
      " 'movielens_recommender_model': <class 'recommender_models.ALS'>,\n",
      " 'movielens_topk_movies': 2500,\n",
      " 'movielens_topk_users': 2000,\n",
      " 'movielens_version': '1m',\n",
      " 'ocef_dir': PosixPath('../results_ocef'),\n",
      " 'parallel': False,\n",
      " 'random_state': <SeedSequence>:42,\n",
      " 'recommender_dirs': {'lastfm': PosixPath('../lastfm/models'),\n",
      "                      'movielens': PosixPath('../movielens/models')},\n",
      " 'recommender_evaluation_metric': 'ndcg',\n",
      " 'recommender_models': {'lastfm': <class 'recommender_models.ALS'>,\n",
      "                        'movielens': <class 'recommender_models.ALS'>},\n",
      " 'seed': 42,\n",
      " 'temperature': 0.2,\n",
      " 'train_size': 0.7,\n",
      " 'validation_size': 0.1}\n"
     ]
    }
   ],
   "source": [
    "conf = config.Configuration(\n",
    "    datasets=[\"lastfm\", \"movielens\"],\n",
    "    # datasets=[\"movielens\"],\n",
    "    lastfm_ground_truth_file=config.LASTFM_RECOMMENDER_DIR / \"model_ground_truth.npz\",\n",
    "    lastfm_recommender_dir=config.LASTFM_RECOMMENDER_DIR,\n",
    "    movielens_ground_truth_file=config.MOVIELENS_RECOMMENDER_DIR\n",
    "    / \"model_ground_truth.npz\",\n",
    "    movielens_recommender_dir=config.MOVIELENS_RECOMMENDER_DIR,\n",
    "    lastfm_ground_truth_model=\"ALS\",\n",
    "    movielens_ground_truth_model=\"ALS\",\n",
    "    lastfm_recommender_model=\"ALS\",\n",
    "    movielens_recommender_model=\"ALS\",\n",
    "    # NOTE point ocef_dir to the folder with your ocef results, default is\n",
    "    # FACT/results_ocef\n",
    "    # ocef_dir=...\n",
    ")\n",
    "pprint.pprint(dataclasses.asdict(conf))"
   ]
  },
  {
   "cell_type": "code",
   "execution_count": null,
   "id": "9df6eeb7-8ef7-442d-873f-28c51a3df07d",
   "metadata": {},
   "outputs": [
    {
     "name": "stdout",
     "output_type": "stream",
     "text": [
      "Plot using existing files from ../results_ocef...\n"
     ]
    },
    {
     "ename": "FileNotFoundError",
     "evalue": "[Errno 2] No such file or directory: '../results_ocef/problem1.txt'",
     "output_type": "error",
     "traceback": [
      "\u001b[0;31m---------------------------------------------------------------------------\u001b[0m",
      "\u001b[0;31mFileNotFoundError\u001b[0m                         Traceback (most recent call last)",
      "Cell \u001b[0;32mIn[4], line 1\u001b[0m\n\u001b[0;32m----> 1\u001b[0m \u001b[43mocef\u001b[49m\u001b[38;5;241;43m.\u001b[39;49m\u001b[43mmain\u001b[49m\u001b[43m(\u001b[49m\u001b[43mconf\u001b[49m\u001b[43m)\u001b[49m\n",
      "File \u001b[0;32m~/master/FACT/FACT/src/ocef.py:326\u001b[0m, in \u001b[0;36mmain\u001b[0;34m(conf)\u001b[0m\n\u001b[1;32m    324\u001b[0m \u001b[38;5;28;01melse\u001b[39;00m:\n\u001b[1;32m    325\u001b[0m     \u001b[38;5;28mprint\u001b[39m(\u001b[38;5;124mf\u001b[39m\u001b[38;5;124m\"\u001b[39m\u001b[38;5;124mPlot using existing files from \u001b[39m\u001b[38;5;132;01m{\u001b[39;00mresults_dir\u001b[38;5;132;01m}\u001b[39;00m\u001b[38;5;124m...\u001b[39m\u001b[38;5;124m\"\u001b[39m)\n\u001b[0;32m--> 326\u001b[0m \u001b[43mplot\u001b[49m\u001b[43m(\u001b[49m\u001b[43malphas\u001b[49m\u001b[43m,\u001b[49m\u001b[43m \u001b[49m\u001b[43mresults_dir\u001b[49m\u001b[38;5;241;43m=\u001b[39;49m\u001b[43mresults_dir\u001b[49m\u001b[43m)\u001b[49m\n",
      "File \u001b[0;32m~/master/FACT/FACT/src/ocef.py:191\u001b[0m, in \u001b[0;36mplot\u001b[0;34m(alphas, results_dir)\u001b[0m\n\u001b[1;32m    187\u001b[0m all_costs \u001b[38;5;241m=\u001b[39m []\n\u001b[1;32m    189\u001b[0m \u001b[38;5;28;01mfor\u001b[39;00m i \u001b[38;5;129;01min\u001b[39;00m \u001b[38;5;28mrange\u001b[39m(\u001b[38;5;241m1\u001b[39m, \u001b[38;5;241m5\u001b[39m):\n\u001b[1;32m    190\u001b[0m     \u001b[38;5;66;03m# read from file\u001b[39;00m\n\u001b[0;32m--> 191\u001b[0m     \u001b[38;5;28;01mwith\u001b[39;00m \u001b[38;5;28;43mopen\u001b[39;49m\u001b[43m(\u001b[49m\u001b[43mresults_dir\u001b[49m\u001b[43m \u001b[49m\u001b[38;5;241;43m/\u001b[39;49m\u001b[43m \u001b[49m\u001b[38;5;124;43mf\u001b[39;49m\u001b[38;5;124;43m\"\u001b[39;49m\u001b[38;5;124;43mproblem\u001b[39;49m\u001b[38;5;132;43;01m{\u001b[39;49;00m\u001b[43mi\u001b[49m\u001b[38;5;132;43;01m}\u001b[39;49;00m\u001b[38;5;124;43m.txt\u001b[39;49m\u001b[38;5;124;43m\"\u001b[39;49m\u001b[43m,\u001b[49m\u001b[43m \u001b[49m\u001b[38;5;124;43m\"\u001b[39;49m\u001b[38;5;124;43mr\u001b[39;49m\u001b[38;5;124;43m\"\u001b[39;49m\u001b[43m)\u001b[49m \u001b[38;5;28;01mas\u001b[39;00m f:\n\u001b[1;32m    192\u001b[0m         data \u001b[38;5;241m=\u001b[39m f\u001b[38;5;241m.\u001b[39mread()\n\u001b[1;32m    194\u001b[0m     data \u001b[38;5;241m=\u001b[39m data\u001b[38;5;241m.\u001b[39msplit(\u001b[38;5;124m\"\u001b[39m\u001b[38;5;130;01m\\n\u001b[39;00m\u001b[38;5;124m\"\u001b[39m)\n",
      "\u001b[0;31mFileNotFoundError\u001b[0m: [Errno 2] No such file or directory: '../results_ocef/problem1.txt'"
     ]
    }
   ],
   "source": [
    "ocef.main(conf)"
   ]
  },
  {
   "cell_type": "code",
   "execution_count": null,
   "id": "b602d76c-b386-451e-befb-62da988de5fc",
   "metadata": {},
   "outputs": [],
   "source": [
    "metrics = sources_of_envy.envy_from_misspecification(conf)"
   ]
  },
  {
   "cell_type": "code",
   "execution_count": null,
   "id": "8a87a2f5-74fb-4561-9d38-ed17fb1d2186",
   "metadata": {},
   "outputs": [
    {
     "data": {
      "text/html": [
       "<div>\n",
       "<style scoped>\n",
       "    .dataframe tbody tr th:only-of-type {\n",
       "        vertical-align: middle;\n",
       "    }\n",
       "\n",
       "    .dataframe tbody tr th {\n",
       "        vertical-align: top;\n",
       "    }\n",
       "\n",
       "    .dataframe thead th {\n",
       "        text-align: right;\n",
       "    }\n",
       "</style>\n",
       "<table border=\"1\" class=\"dataframe\">\n",
       "  <thead>\n",
       "    <tr style=\"text-align: right;\">\n",
       "      <th></th>\n",
       "      <th>mean_envy</th>\n",
       "      <th>prop_eps_envy</th>\n",
       "      <th>dataset</th>\n",
       "    </tr>\n",
       "  </thead>\n",
       "  <tbody>\n",
       "    <tr>\n",
       "      <th>64</th>\n",
       "      <td>0.004817</td>\n",
       "      <td>0.009514</td>\n",
       "      <td>lastfm</td>\n",
       "    </tr>\n",
       "    <tr>\n",
       "      <th>256</th>\n",
       "      <td>0.010771</td>\n",
       "      <td>0.058668</td>\n",
       "      <td>lastfm</td>\n",
       "    </tr>\n",
       "    <tr>\n",
       "      <th>4</th>\n",
       "      <td>0.012304</td>\n",
       "      <td>0.003171</td>\n",
       "      <td>lastfm</td>\n",
       "    </tr>\n",
       "    <tr>\n",
       "      <th>8</th>\n",
       "      <td>0.011532</td>\n",
       "      <td>0.001586</td>\n",
       "      <td>lastfm</td>\n",
       "    </tr>\n",
       "    <tr>\n",
       "      <th>128</th>\n",
       "      <td>0.003560</td>\n",
       "      <td>0.012156</td>\n",
       "      <td>lastfm</td>\n",
       "    </tr>\n",
       "    <tr>\n",
       "      <th>32</th>\n",
       "      <td>0.003798</td>\n",
       "      <td>0.001057</td>\n",
       "      <td>lastfm</td>\n",
       "    </tr>\n",
       "    <tr>\n",
       "      <th>2</th>\n",
       "      <td>0.009717</td>\n",
       "      <td>0.001057</td>\n",
       "      <td>lastfm</td>\n",
       "    </tr>\n",
       "    <tr>\n",
       "      <th>1</th>\n",
       "      <td>0.011642</td>\n",
       "      <td>0.000000</td>\n",
       "      <td>lastfm</td>\n",
       "    </tr>\n",
       "    <tr>\n",
       "      <th>16</th>\n",
       "      <td>0.006858</td>\n",
       "      <td>0.003171</td>\n",
       "      <td>lastfm</td>\n",
       "    </tr>\n",
       "    <tr>\n",
       "      <th>64</th>\n",
       "      <td>0.001691</td>\n",
       "      <td>0.000000</td>\n",
       "      <td>movielens</td>\n",
       "    </tr>\n",
       "    <tr>\n",
       "      <th>256</th>\n",
       "      <td>0.001733</td>\n",
       "      <td>0.000000</td>\n",
       "      <td>movielens</td>\n",
       "    </tr>\n",
       "    <tr>\n",
       "      <th>4</th>\n",
       "      <td>0.027263</td>\n",
       "      <td>0.088500</td>\n",
       "      <td>movielens</td>\n",
       "    </tr>\n",
       "    <tr>\n",
       "      <th>8</th>\n",
       "      <td>0.015394</td>\n",
       "      <td>0.014000</td>\n",
       "      <td>movielens</td>\n",
       "    </tr>\n",
       "    <tr>\n",
       "      <th>128</th>\n",
       "      <td>0.001741</td>\n",
       "      <td>0.000000</td>\n",
       "      <td>movielens</td>\n",
       "    </tr>\n",
       "    <tr>\n",
       "      <th>32</th>\n",
       "      <td>0.001635</td>\n",
       "      <td>0.000000</td>\n",
       "      <td>movielens</td>\n",
       "    </tr>\n",
       "    <tr>\n",
       "      <th>2</th>\n",
       "      <td>0.040693</td>\n",
       "      <td>0.431000</td>\n",
       "      <td>movielens</td>\n",
       "    </tr>\n",
       "    <tr>\n",
       "      <th>1</th>\n",
       "      <td>0.038626</td>\n",
       "      <td>0.317000</td>\n",
       "      <td>movielens</td>\n",
       "    </tr>\n",
       "    <tr>\n",
       "      <th>16</th>\n",
       "      <td>0.006116</td>\n",
       "      <td>0.000500</td>\n",
       "      <td>movielens</td>\n",
       "    </tr>\n",
       "  </tbody>\n",
       "</table>\n",
       "</div>"
      ],
      "text/plain": [
       "     mean_envy  prop_eps_envy    dataset\n",
       "64    0.004817       0.009514     lastfm\n",
       "256   0.010771       0.058668     lastfm\n",
       "4     0.012304       0.003171     lastfm\n",
       "8     0.011532       0.001586     lastfm\n",
       "128   0.003560       0.012156     lastfm\n",
       "32    0.003798       0.001057     lastfm\n",
       "2     0.009717       0.001057     lastfm\n",
       "1     0.011642       0.000000     lastfm\n",
       "16    0.006858       0.003171     lastfm\n",
       "64    0.001691       0.000000  movielens\n",
       "256   0.001733       0.000000  movielens\n",
       "4     0.027263       0.088500  movielens\n",
       "8     0.015394       0.014000  movielens\n",
       "128   0.001741       0.000000  movielens\n",
       "32    0.001635       0.000000  movielens\n",
       "2     0.040693       0.431000  movielens\n",
       "1     0.038626       0.317000  movielens\n",
       "16    0.006116       0.000500  movielens"
      ]
     },
     "execution_count": null,
     "metadata": {},
     "output_type": "execute_result"
    }
   ],
   "source": [
    "df = pd.concat(\n",
    "    [pd.DataFrame(vals).assign(dataset=dataset) for dataset, vals in metrics.items()]\n",
    ")\n",
    "df"
   ]
  },
  {
   "cell_type": "code",
   "execution_count": null,
   "id": "ea4cb268-e88f-414c-8022-6acb778f50be",
   "metadata": {},
   "outputs": [
    {
     "data": {
      "image/png": "[encoded data removed]",
      "text/plain": [
       "<Figure size 1000x500 with 2 Axes>"
      ]
     },
     "metadata": {},
     "output_type": "display_data"
    }
   ],
   "source": [
    "fig, axes = plt.subplots(1, 2, figsize=(10, 5))\n",
    "\n",
    "# NOTE if you uncomment this, you can see that results for lastfm are\n",
    "# (kind of) in line with the paper, while movielens screws big time\n",
    "# df = og_df[og_df[\"dataset\"] == \"lastfm\"]\n",
    "# sns.pointplot(data=df, x=df.index, y=\"mean_envy\", hue=\"dataset\", linestyles=[\"-\", \"--\"], ax=axes[0])\n",
    "sns.lineplot(data=df, x=df.index, y=\"mean_envy\", hue=\"dataset\", ax=axes[0])\n",
    "axes[0].set_xlim(-5, 120)\n",
    "# sns.pointplot(data=df, x=df.index, y=\"prop_eps_envy\", hue=\"dataset\", linestyles=[\"-\", \"--\"], ax=axes[1])\n",
    "sns.lineplot(data=df, x=df.index, y=\"prop_eps_envy\", hue=\"dataset\", ax=axes[1])\n",
    "axes[1].set_xlim(-5, 120)\n",
    "plt.tight_layout()"
   ]
  }
 ],
 "metadata": {
  "kernelspec": {
   "display_name": "Python 3 (ipykernel)",
   "language": "python",
   "name": "python3"
  }
 },
 "nbformat": 4,
 "nbformat_minor": 5
}
